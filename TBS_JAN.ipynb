{
  "nbformat": 4,
  "nbformat_minor": 0,
  "metadata": {
    "colab": {
      "name": "TBS_JAN",
      "provenance": [],
      "authorship_tag": "ABX9TyOrRKb3mdED+W2Dldx+0hbo",
      "include_colab_link": true
    },
    "kernelspec": {
      "name": "python3",
      "display_name": "Python 3"
    },
    "language_info": {
      "name": "python"
    }
  },
  "cells": [
    {
      "cell_type": "markdown",
      "metadata": {
        "id": "view-in-github",
        "colab_type": "text"
      },
      "source": [
        "<a href=\"https://colab.research.google.com/github/5hv5hvnk/TabularPlaygroundSeries/blob/master/TBS_JAN.ipynb\" target=\"_parent\"><img src=\"https://colab.research.google.com/assets/colab-badge.svg\" alt=\"Open In Colab\"/></a>"
      ]
    },
    {
      "cell_type": "code",
      "metadata": {
        "id": "x4VxVHwTShxw"
      },
      "source": [
        "import pandas as pd\n",
        "import numpy as np"
      ],
      "execution_count": 1,
      "outputs": []
    },
    {
      "cell_type": "code",
      "metadata": {
        "id": "GzbyVGOb2iYB"
      },
      "source": [
        "import seaborn as sns\n",
        "import matplotlib.pyplot as plt"
      ],
      "execution_count": 2,
      "outputs": []
    },
    {
      "cell_type": "code",
      "metadata": {
        "id": "8aRSlKkb2mAg"
      },
      "source": [
        "from xgboost import XGBRegressor\n",
        "from sklearn.linear_model import Ridge\n",
        "\n",
        "from sklearn.metrics import accuracy_score\n",
        "from sklearn.metrics import mean_absolute_error\n",
        "from sklearn.model_selection import train_test_split\n",
        "\n",
        "from sklearn.model_selection import cross_val_score\n",
        "from sklearn.model_selection import LeaveOneGroupOut"
      ],
      "execution_count": 3,
      "outputs": []
    },
    {
      "cell_type": "code",
      "metadata": {
        "id": "oXcaf37Y1xUT"
      },
      "source": [
        "df1 = pd.read_csv('train.csv')\n",
        "df2 = pd.read_csv('test.csv')\n",
        "sam = pd.read_csv('sample_submission.csv')"
      ],
      "execution_count": 4,
      "outputs": []
    },
    {
      "cell_type": "code",
      "metadata": {
        "colab": {
          "base_uri": "https://localhost:8080/"
        },
        "id": "EbCaFrfu2c4f",
        "outputId": "95aedb2a-f0c9-4722-c86c-779ffa04b6e6"
      },
      "source": [
        "MV1 = df1.isnull().sum()\n",
        "MV2 = df2.isnull().sum()\n",
        "\n",
        "print(f'Missing Value 1:  {MV1[MV1 > 0]}')\n",
        "print(f'Missing Value 2:  {MV2[MV2 > 0]}')"
      ],
      "execution_count": 7,
      "outputs": [
        {
          "output_type": "stream",
          "text": [
            "Missing Value 1:  Series([], dtype: int64)\n",
            "Missing Value 2:  Series([], dtype: int64)\n"
          ],
          "name": "stdout"
        }
      ]
    },
    {
      "cell_type": "code",
      "metadata": {
        "colab": {
          "base_uri": "https://localhost:8080/",
          "height": 201
        },
        "id": "7ZAzZ0hN20y0",
        "outputId": "36c226f3-3cee-4c07-b531-489edc4ea91a"
      },
      "source": [
        "df1.head(5)"
      ],
      "execution_count": 8,
      "outputs": [
        {
          "output_type": "execute_result",
          "data": {
            "text/html": [
              "<div>\n",
              "<style scoped>\n",
              "    .dataframe tbody tr th:only-of-type {\n",
              "        vertical-align: middle;\n",
              "    }\n",
              "\n",
              "    .dataframe tbody tr th {\n",
              "        vertical-align: top;\n",
              "    }\n",
              "\n",
              "    .dataframe thead th {\n",
              "        text-align: right;\n",
              "    }\n",
              "</style>\n",
              "<table border=\"1\" class=\"dataframe\">\n",
              "  <thead>\n",
              "    <tr style=\"text-align: right;\">\n",
              "      <th></th>\n",
              "      <th>id</th>\n",
              "      <th>cont1</th>\n",
              "      <th>cont2</th>\n",
              "      <th>cont3</th>\n",
              "      <th>cont4</th>\n",
              "      <th>cont5</th>\n",
              "      <th>cont6</th>\n",
              "      <th>cont7</th>\n",
              "      <th>cont8</th>\n",
              "      <th>cont9</th>\n",
              "      <th>cont10</th>\n",
              "      <th>cont11</th>\n",
              "      <th>cont12</th>\n",
              "      <th>cont13</th>\n",
              "      <th>cont14</th>\n",
              "      <th>target</th>\n",
              "    </tr>\n",
              "  </thead>\n",
              "  <tbody>\n",
              "    <tr>\n",
              "      <th>0</th>\n",
              "      <td>1</td>\n",
              "      <td>0.670390</td>\n",
              "      <td>0.811300</td>\n",
              "      <td>0.643968</td>\n",
              "      <td>0.291791</td>\n",
              "      <td>0.284117</td>\n",
              "      <td>0.855953</td>\n",
              "      <td>0.890700</td>\n",
              "      <td>0.285542</td>\n",
              "      <td>0.558245</td>\n",
              "      <td>0.779418</td>\n",
              "      <td>0.921832</td>\n",
              "      <td>0.866772</td>\n",
              "      <td>0.878733</td>\n",
              "      <td>0.305411</td>\n",
              "      <td>7.243043</td>\n",
              "    </tr>\n",
              "    <tr>\n",
              "      <th>1</th>\n",
              "      <td>3</td>\n",
              "      <td>0.388053</td>\n",
              "      <td>0.621104</td>\n",
              "      <td>0.686102</td>\n",
              "      <td>0.501149</td>\n",
              "      <td>0.643790</td>\n",
              "      <td>0.449805</td>\n",
              "      <td>0.510824</td>\n",
              "      <td>0.580748</td>\n",
              "      <td>0.418335</td>\n",
              "      <td>0.432632</td>\n",
              "      <td>0.439872</td>\n",
              "      <td>0.434971</td>\n",
              "      <td>0.369957</td>\n",
              "      <td>0.369484</td>\n",
              "      <td>8.203331</td>\n",
              "    </tr>\n",
              "    <tr>\n",
              "      <th>2</th>\n",
              "      <td>4</td>\n",
              "      <td>0.834950</td>\n",
              "      <td>0.227436</td>\n",
              "      <td>0.301584</td>\n",
              "      <td>0.293408</td>\n",
              "      <td>0.606839</td>\n",
              "      <td>0.829175</td>\n",
              "      <td>0.506143</td>\n",
              "      <td>0.558771</td>\n",
              "      <td>0.587603</td>\n",
              "      <td>0.823312</td>\n",
              "      <td>0.567007</td>\n",
              "      <td>0.677708</td>\n",
              "      <td>0.882938</td>\n",
              "      <td>0.303047</td>\n",
              "      <td>7.776091</td>\n",
              "    </tr>\n",
              "    <tr>\n",
              "      <th>3</th>\n",
              "      <td>5</td>\n",
              "      <td>0.820708</td>\n",
              "      <td>0.160155</td>\n",
              "      <td>0.546887</td>\n",
              "      <td>0.726104</td>\n",
              "      <td>0.282444</td>\n",
              "      <td>0.785108</td>\n",
              "      <td>0.752758</td>\n",
              "      <td>0.823267</td>\n",
              "      <td>0.574466</td>\n",
              "      <td>0.580843</td>\n",
              "      <td>0.769594</td>\n",
              "      <td>0.818143</td>\n",
              "      <td>0.914281</td>\n",
              "      <td>0.279528</td>\n",
              "      <td>6.957716</td>\n",
              "    </tr>\n",
              "    <tr>\n",
              "      <th>4</th>\n",
              "      <td>8</td>\n",
              "      <td>0.935278</td>\n",
              "      <td>0.421235</td>\n",
              "      <td>0.303801</td>\n",
              "      <td>0.880214</td>\n",
              "      <td>0.665610</td>\n",
              "      <td>0.830131</td>\n",
              "      <td>0.487113</td>\n",
              "      <td>0.604157</td>\n",
              "      <td>0.874658</td>\n",
              "      <td>0.863427</td>\n",
              "      <td>0.983575</td>\n",
              "      <td>0.900464</td>\n",
              "      <td>0.935918</td>\n",
              "      <td>0.435772</td>\n",
              "      <td>7.951046</td>\n",
              "    </tr>\n",
              "  </tbody>\n",
              "</table>\n",
              "</div>"
            ],
            "text/plain": [
              "   id     cont1     cont2     cont3  ...    cont12    cont13    cont14    target\n",
              "0   1  0.670390  0.811300  0.643968  ...  0.866772  0.878733  0.305411  7.243043\n",
              "1   3  0.388053  0.621104  0.686102  ...  0.434971  0.369957  0.369484  8.203331\n",
              "2   4  0.834950  0.227436  0.301584  ...  0.677708  0.882938  0.303047  7.776091\n",
              "3   5  0.820708  0.160155  0.546887  ...  0.818143  0.914281  0.279528  6.957716\n",
              "4   8  0.935278  0.421235  0.303801  ...  0.900464  0.935918  0.435772  7.951046\n",
              "\n",
              "[5 rows x 16 columns]"
            ]
          },
          "metadata": {
            "tags": []
          },
          "execution_count": 8
        }
      ]
    },
    {
      "cell_type": "code",
      "metadata": {
        "colab": {
          "base_uri": "https://localhost:8080/",
          "height": 201
        },
        "id": "eEqf3z0K24CV",
        "outputId": "8a8119bc-d7bf-499a-e57b-c5ed27a2b4da"
      },
      "source": [
        "df2.head(5)"
      ],
      "execution_count": 9,
      "outputs": [
        {
          "output_type": "execute_result",
          "data": {
            "text/html": [
              "<div>\n",
              "<style scoped>\n",
              "    .dataframe tbody tr th:only-of-type {\n",
              "        vertical-align: middle;\n",
              "    }\n",
              "\n",
              "    .dataframe tbody tr th {\n",
              "        vertical-align: top;\n",
              "    }\n",
              "\n",
              "    .dataframe thead th {\n",
              "        text-align: right;\n",
              "    }\n",
              "</style>\n",
              "<table border=\"1\" class=\"dataframe\">\n",
              "  <thead>\n",
              "    <tr style=\"text-align: right;\">\n",
              "      <th></th>\n",
              "      <th>id</th>\n",
              "      <th>cont1</th>\n",
              "      <th>cont2</th>\n",
              "      <th>cont3</th>\n",
              "      <th>cont4</th>\n",
              "      <th>cont5</th>\n",
              "      <th>cont6</th>\n",
              "      <th>cont7</th>\n",
              "      <th>cont8</th>\n",
              "      <th>cont9</th>\n",
              "      <th>cont10</th>\n",
              "      <th>cont11</th>\n",
              "      <th>cont12</th>\n",
              "      <th>cont13</th>\n",
              "      <th>cont14</th>\n",
              "    </tr>\n",
              "  </thead>\n",
              "  <tbody>\n",
              "    <tr>\n",
              "      <th>0</th>\n",
              "      <td>0</td>\n",
              "      <td>0.353600</td>\n",
              "      <td>0.738780</td>\n",
              "      <td>0.600939</td>\n",
              "      <td>0.293377</td>\n",
              "      <td>0.285691</td>\n",
              "      <td>0.458006</td>\n",
              "      <td>0.620704</td>\n",
              "      <td>0.422249</td>\n",
              "      <td>0.369203</td>\n",
              "      <td>0.435727</td>\n",
              "      <td>0.550540</td>\n",
              "      <td>0.699134</td>\n",
              "      <td>0.286864</td>\n",
              "      <td>0.364515</td>\n",
              "    </tr>\n",
              "    <tr>\n",
              "      <th>1</th>\n",
              "      <td>2</td>\n",
              "      <td>0.907222</td>\n",
              "      <td>0.189756</td>\n",
              "      <td>0.215531</td>\n",
              "      <td>0.869915</td>\n",
              "      <td>0.301333</td>\n",
              "      <td>0.528958</td>\n",
              "      <td>0.390351</td>\n",
              "      <td>0.521112</td>\n",
              "      <td>0.794779</td>\n",
              "      <td>0.798580</td>\n",
              "      <td>0.446475</td>\n",
              "      <td>0.449037</td>\n",
              "      <td>0.916964</td>\n",
              "      <td>0.513002</td>\n",
              "    </tr>\n",
              "    <tr>\n",
              "      <th>2</th>\n",
              "      <td>6</td>\n",
              "      <td>0.179287</td>\n",
              "      <td>0.355353</td>\n",
              "      <td>0.623972</td>\n",
              "      <td>0.437812</td>\n",
              "      <td>0.282476</td>\n",
              "      <td>0.320826</td>\n",
              "      <td>0.386789</td>\n",
              "      <td>0.776422</td>\n",
              "      <td>0.222268</td>\n",
              "      <td>0.229102</td>\n",
              "      <td>0.211913</td>\n",
              "      <td>0.222651</td>\n",
              "      <td>0.327164</td>\n",
              "      <td>0.827941</td>\n",
              "    </tr>\n",
              "    <tr>\n",
              "      <th>3</th>\n",
              "      <td>7</td>\n",
              "      <td>0.359385</td>\n",
              "      <td>0.181049</td>\n",
              "      <td>0.551368</td>\n",
              "      <td>0.206386</td>\n",
              "      <td>0.280763</td>\n",
              "      <td>0.482076</td>\n",
              "      <td>0.506677</td>\n",
              "      <td>0.362793</td>\n",
              "      <td>0.379737</td>\n",
              "      <td>0.345686</td>\n",
              "      <td>0.445276</td>\n",
              "      <td>0.518485</td>\n",
              "      <td>0.299028</td>\n",
              "      <td>0.598166</td>\n",
              "    </tr>\n",
              "    <tr>\n",
              "      <th>4</th>\n",
              "      <td>10</td>\n",
              "      <td>0.335791</td>\n",
              "      <td>0.682607</td>\n",
              "      <td>0.676481</td>\n",
              "      <td>0.219465</td>\n",
              "      <td>0.282861</td>\n",
              "      <td>0.581721</td>\n",
              "      <td>0.748639</td>\n",
              "      <td>0.350158</td>\n",
              "      <td>0.448915</td>\n",
              "      <td>0.506878</td>\n",
              "      <td>0.817721</td>\n",
              "      <td>0.805895</td>\n",
              "      <td>0.790591</td>\n",
              "      <td>0.249275</td>\n",
              "    </tr>\n",
              "  </tbody>\n",
              "</table>\n",
              "</div>"
            ],
            "text/plain": [
              "   id     cont1     cont2     cont3  ...    cont11    cont12    cont13    cont14\n",
              "0   0  0.353600  0.738780  0.600939  ...  0.550540  0.699134  0.286864  0.364515\n",
              "1   2  0.907222  0.189756  0.215531  ...  0.446475  0.449037  0.916964  0.513002\n",
              "2   6  0.179287  0.355353  0.623972  ...  0.211913  0.222651  0.327164  0.827941\n",
              "3   7  0.359385  0.181049  0.551368  ...  0.445276  0.518485  0.299028  0.598166\n",
              "4  10  0.335791  0.682607  0.676481  ...  0.817721  0.805895  0.790591  0.249275\n",
              "\n",
              "[5 rows x 15 columns]"
            ]
          },
          "metadata": {
            "tags": []
          },
          "execution_count": 9
        }
      ]
    },
    {
      "cell_type": "code",
      "metadata": {
        "id": "-z9U81p95zxk"
      },
      "source": [
        "data1 = df1.copy()\n",
        "data2 = df2.copy()"
      ],
      "execution_count": 11,
      "outputs": []
    },
    {
      "cell_type": "code",
      "metadata": {
        "id": "yl-j5p2g6MJC"
      },
      "source": [
        "X = data1.drop(columns = ['target'])"
      ],
      "execution_count": null,
      "outputs": []
    },
    {
      "cell_type": "code",
      "metadata": {
        "id": "V6Z2pp6Q6Wo8"
      },
      "source": [
        "y1 = data1.target"
      ],
      "execution_count": 13,
      "outputs": []
    },
    {
      "cell_type": "code",
      "metadata": {
        "id": "DhySc3hU6xrU"
      },
      "source": [
        "train_X, val_X, train_y1, val_y1 = train_test_split(X, y1, test_size=0.50, random_state=123)"
      ],
      "execution_count": 14,
      "outputs": []
    },
    {
      "cell_type": "code",
      "metadata": {
        "id": "-7axJ-Lw61gL"
      },
      "source": [
        "val_X.to_csv(\"val_X.csv\",index=False)\n",
        "\n",
        "val_y1.to_csv(\"val_y1.csv\",index=False)"
      ],
      "execution_count": 15,
      "outputs": []
    },
    {
      "cell_type": "code",
      "metadata": {
        "colab": {
          "base_uri": "https://localhost:8080/"
        },
        "id": "fxx8VB8x67vH",
        "outputId": "804a0641-f47d-4f5f-bac9-909b31193668"
      },
      "source": [
        "model1v = XGBRegressor(max_depth=6,\n",
        "                       n_estimators=250,\n",
        "                       learning_rate=0.08,\n",
        "                       subsample=0.7,\n",
        "                       alpha=0.5,\n",
        "                       random_state=123)                           \n",
        "        \n",
        "model1v.fit(train_X, train_y1, verbose=100)\n",
        "oof_pred1 = model1v.predict(val_X)\n",
        "\n",
        "oof_pred1 = np.clip(oof_pred1, 0.30, y1.max())\n",
        "\n"
      ],
      "execution_count": 16,
      "outputs": [
        {
          "output_type": "stream",
          "text": [
            "[14:29:53] WARNING: /workspace/src/objective/regression_obj.cu:152: reg:linear is now deprecated in favor of reg:squarederror.\n"
          ],
          "name": "stdout"
        }
      ]
    },
    {
      "cell_type": "code",
      "metadata": {
        "colab": {
          "base_uri": "https://localhost:8080/"
        },
        "id": "OniqXw9M7CTd",
        "outputId": "b2b8185b-f52e-4991-9614-626470b8c7c3"
      },
      "source": [
        "print(mean_absolute_error(val_y1, oof_pred1))"
      ],
      "execution_count": 17,
      "outputs": [
        {
          "output_type": "stream",
          "text": [
            "0.5885407825445479\n"
          ],
          "name": "stdout"
        }
      ]
    },
    {
      "cell_type": "code",
      "metadata": {
        "colab": {
          "base_uri": "https://localhost:8080/"
        },
        "id": "JTcwM8dy7rrY",
        "outputId": "ed262990-9ab2-4b96-f258-4021c63d0dee"
      },
      "source": [
        "model1v.feature_importances_"
      ],
      "execution_count": 18,
      "outputs": [
        {
          "output_type": "execute_result",
          "data": {
            "text/plain": [
              "array([0.02922962, 0.05562525, 0.07497352, 0.08366495, 0.07736058,\n",
              "       0.05837726, 0.06508572, 0.06822507, 0.05908398, 0.06245903,\n",
              "       0.07123949, 0.06923561, 0.07384491, 0.08253135, 0.06906367],\n",
              "      dtype=float32)"
            ]
          },
          "metadata": {
            "tags": []
          },
          "execution_count": 18
        }
      ]
    },
    {
      "cell_type": "code",
      "metadata": {
        "colab": {
          "base_uri": "https://localhost:8080/",
          "height": 369
        },
        "id": "lxPqqWKr7uYp",
        "outputId": "00fcb43b-2d82-4b3a-8a54-3cb3e905cfc4"
      },
      "source": [
        "axis_x  = X.columns.values\n",
        "axis_y1 = model1v.feature_importances_\n",
        "\n",
        "plt.style.use('seaborn-whitegrid') \n",
        "plt.figure(figsize=(16, 6), facecolor='lightgray')\n",
        "\n",
        "plt.scatter(axis_x, axis_y1, s=120, label='target') \n",
        "plt.legend(fontsize=12, loc=2)\n",
        "plt.show() "
      ],
      "execution_count": 19,
      "outputs": [
        {
          "output_type": "display_data",
          "data": {
            "image/png": "[encoded data removed]",
            "text/plain": [
              "<Figure size 1152x432 with 1 Axes>"
            ]
          },
          "metadata": {
            "tags": []
          }
        }
      ]
    },
    {
      "cell_type": "code",
      "metadata": {
        "colab": {
          "base_uri": "https://localhost:8080/",
          "height": 82
        },
        "id": "UKRZqe51706R",
        "outputId": "a4771fc9-66e4-4e7a-f425-abc442b4afca"
      },
      "source": [
        "model1 = XGBRegressor(max_depth=6,\n",
        "                      n_estimators=250,\n",
        "                      learning_rate=0.08,\n",
        "                      subsample=0.7,\n",
        "                      alpha=0.5,\n",
        "                      random_state=314)                         \n",
        "\n",
        "model1.fit(X, y1)\n",
        "pred1 = model1.predict(data2)\n",
        "pred1 = np.clip(pred1, 0.30, y1.max())\n",
        "display(pred1, pred1.shape) "
      ],
      "execution_count": 24,
      "outputs": [
        {
          "output_type": "stream",
          "text": [
            "[14:49:22] WARNING: /workspace/src/objective/regression_obj.cu:152: reg:linear is now deprecated in favor of reg:squarederror.\n"
          ],
          "name": "stdout"
        },
        {
          "output_type": "display_data",
          "data": {
            "text/plain": [
              "array([7.874655 , 8.005341 , 7.9479446, ..., 8.110463 , 8.070707 ,\n",
              "       7.877386 ], dtype=float32)"
            ]
          },
          "metadata": {
            "tags": []
          }
        },
        {
          "output_type": "display_data",
          "data": {
            "text/plain": [
              "(200000,)"
            ]
          },
          "metadata": {
            "tags": []
          }
        }
      ]
    },
    {
      "cell_type": "code",
      "metadata": {
        "colab": {
          "base_uri": "https://localhost:8080/",
          "height": 411
        },
        "id": "qEwR16Aj75r-",
        "outputId": "3fc0fe5d-9ce7-46fc-c97c-ad5f23589418"
      },
      "source": [
        "sub_xgb = data2.copy()\n",
        "sub_xgb['target'] = pred1\n",
        "sub_xgb"
      ],
      "execution_count": 25,
      "outputs": [
        {
          "output_type": "execute_result",
          "data": {
            "text/html": [
              "<div>\n",
              "<style scoped>\n",
              "    .dataframe tbody tr th:only-of-type {\n",
              "        vertical-align: middle;\n",
              "    }\n",
              "\n",
              "    .dataframe tbody tr th {\n",
              "        vertical-align: top;\n",
              "    }\n",
              "\n",
              "    .dataframe thead th {\n",
              "        text-align: right;\n",
              "    }\n",
              "</style>\n",
              "<table border=\"1\" class=\"dataframe\">\n",
              "  <thead>\n",
              "    <tr style=\"text-align: right;\">\n",
              "      <th></th>\n",
              "      <th>id</th>\n",
              "      <th>cont1</th>\n",
              "      <th>cont2</th>\n",
              "      <th>cont3</th>\n",
              "      <th>cont4</th>\n",
              "      <th>cont5</th>\n",
              "      <th>cont6</th>\n",
              "      <th>cont7</th>\n",
              "      <th>cont8</th>\n",
              "      <th>cont9</th>\n",
              "      <th>cont10</th>\n",
              "      <th>cont11</th>\n",
              "      <th>cont12</th>\n",
              "      <th>cont13</th>\n",
              "      <th>cont14</th>\n",
              "      <th>target</th>\n",
              "    </tr>\n",
              "  </thead>\n",
              "  <tbody>\n",
              "    <tr>\n",
              "      <th>0</th>\n",
              "      <td>0</td>\n",
              "      <td>0.353600</td>\n",
              "      <td>0.738780</td>\n",
              "      <td>0.600939</td>\n",
              "      <td>0.293377</td>\n",
              "      <td>0.285691</td>\n",
              "      <td>0.458006</td>\n",
              "      <td>0.620704</td>\n",
              "      <td>0.422249</td>\n",
              "      <td>0.369203</td>\n",
              "      <td>0.435727</td>\n",
              "      <td>0.550540</td>\n",
              "      <td>0.699134</td>\n",
              "      <td>0.286864</td>\n",
              "      <td>0.364515</td>\n",
              "      <td>7.874655</td>\n",
              "    </tr>\n",
              "    <tr>\n",
              "      <th>1</th>\n",
              "      <td>2</td>\n",
              "      <td>0.907222</td>\n",
              "      <td>0.189756</td>\n",
              "      <td>0.215531</td>\n",
              "      <td>0.869915</td>\n",
              "      <td>0.301333</td>\n",
              "      <td>0.528958</td>\n",
              "      <td>0.390351</td>\n",
              "      <td>0.521112</td>\n",
              "      <td>0.794779</td>\n",
              "      <td>0.798580</td>\n",
              "      <td>0.446475</td>\n",
              "      <td>0.449037</td>\n",
              "      <td>0.916964</td>\n",
              "      <td>0.513002</td>\n",
              "      <td>8.005341</td>\n",
              "    </tr>\n",
              "    <tr>\n",
              "      <th>2</th>\n",
              "      <td>6</td>\n",
              "      <td>0.179287</td>\n",
              "      <td>0.355353</td>\n",
              "      <td>0.623972</td>\n",
              "      <td>0.437812</td>\n",
              "      <td>0.282476</td>\n",
              "      <td>0.320826</td>\n",
              "      <td>0.386789</td>\n",
              "      <td>0.776422</td>\n",
              "      <td>0.222268</td>\n",
              "      <td>0.229102</td>\n",
              "      <td>0.211913</td>\n",
              "      <td>0.222651</td>\n",
              "      <td>0.327164</td>\n",
              "      <td>0.827941</td>\n",
              "      <td>7.947945</td>\n",
              "    </tr>\n",
              "    <tr>\n",
              "      <th>3</th>\n",
              "      <td>7</td>\n",
              "      <td>0.359385</td>\n",
              "      <td>0.181049</td>\n",
              "      <td>0.551368</td>\n",
              "      <td>0.206386</td>\n",
              "      <td>0.280763</td>\n",
              "      <td>0.482076</td>\n",
              "      <td>0.506677</td>\n",
              "      <td>0.362793</td>\n",
              "      <td>0.379737</td>\n",
              "      <td>0.345686</td>\n",
              "      <td>0.445276</td>\n",
              "      <td>0.518485</td>\n",
              "      <td>0.299028</td>\n",
              "      <td>0.598166</td>\n",
              "      <td>8.183584</td>\n",
              "    </tr>\n",
              "    <tr>\n",
              "      <th>4</th>\n",
              "      <td>10</td>\n",
              "      <td>0.335791</td>\n",
              "      <td>0.682607</td>\n",
              "      <td>0.676481</td>\n",
              "      <td>0.219465</td>\n",
              "      <td>0.282861</td>\n",
              "      <td>0.581721</td>\n",
              "      <td>0.748639</td>\n",
              "      <td>0.350158</td>\n",
              "      <td>0.448915</td>\n",
              "      <td>0.506878</td>\n",
              "      <td>0.817721</td>\n",
              "      <td>0.805895</td>\n",
              "      <td>0.790591</td>\n",
              "      <td>0.249275</td>\n",
              "      <td>8.249832</td>\n",
              "    </tr>\n",
              "    <tr>\n",
              "      <th>...</th>\n",
              "      <td>...</td>\n",
              "      <td>...</td>\n",
              "      <td>...</td>\n",
              "      <td>...</td>\n",
              "      <td>...</td>\n",
              "      <td>...</td>\n",
              "      <td>...</td>\n",
              "      <td>...</td>\n",
              "      <td>...</td>\n",
              "      <td>...</td>\n",
              "      <td>...</td>\n",
              "      <td>...</td>\n",
              "      <td>...</td>\n",
              "      <td>...</td>\n",
              "      <td>...</td>\n",
              "      <td>...</td>\n",
              "    </tr>\n",
              "    <tr>\n",
              "      <th>199995</th>\n",
              "      <td>499984</td>\n",
              "      <td>0.353856</td>\n",
              "      <td>0.677578</td>\n",
              "      <td>0.550852</td>\n",
              "      <td>0.869612</td>\n",
              "      <td>0.957635</td>\n",
              "      <td>0.255054</td>\n",
              "      <td>0.289138</td>\n",
              "      <td>0.635979</td>\n",
              "      <td>0.271399</td>\n",
              "      <td>0.282455</td>\n",
              "      <td>0.217169</td>\n",
              "      <td>0.219088</td>\n",
              "      <td>0.373261</td>\n",
              "      <td>0.272479</td>\n",
              "      <td>8.129244</td>\n",
              "    </tr>\n",
              "    <tr>\n",
              "      <th>199996</th>\n",
              "      <td>499985</td>\n",
              "      <td>0.243209</td>\n",
              "      <td>0.135627</td>\n",
              "      <td>0.218393</td>\n",
              "      <td>0.792798</td>\n",
              "      <td>0.547639</td>\n",
              "      <td>0.433520</td>\n",
              "      <td>0.549540</td>\n",
              "      <td>0.650107</td>\n",
              "      <td>0.453787</td>\n",
              "      <td>0.459689</td>\n",
              "      <td>0.450424</td>\n",
              "      <td>0.511176</td>\n",
              "      <td>0.318334</td>\n",
              "      <td>0.395747</td>\n",
              "      <td>8.190012</td>\n",
              "    </tr>\n",
              "    <tr>\n",
              "      <th>199997</th>\n",
              "      <td>499987</td>\n",
              "      <td>0.506973</td>\n",
              "      <td>0.683893</td>\n",
              "      <td>0.533434</td>\n",
              "      <td>0.192957</td>\n",
              "      <td>0.314381</td>\n",
              "      <td>0.358604</td>\n",
              "      <td>0.554455</td>\n",
              "      <td>0.267105</td>\n",
              "      <td>0.396101</td>\n",
              "      <td>0.445390</td>\n",
              "      <td>0.382656</td>\n",
              "      <td>0.397978</td>\n",
              "      <td>0.381235</td>\n",
              "      <td>0.369464</td>\n",
              "      <td>8.110463</td>\n",
              "    </tr>\n",
              "    <tr>\n",
              "      <th>199998</th>\n",
              "      <td>499988</td>\n",
              "      <td>0.347870</td>\n",
              "      <td>0.553112</td>\n",
              "      <td>0.495284</td>\n",
              "      <td>0.861500</td>\n",
              "      <td>0.816914</td>\n",
              "      <td>0.298478</td>\n",
              "      <td>0.275964</td>\n",
              "      <td>0.265841</td>\n",
              "      <td>0.334250</td>\n",
              "      <td>0.252635</td>\n",
              "      <td>0.213589</td>\n",
              "      <td>0.285223</td>\n",
              "      <td>0.336772</td>\n",
              "      <td>0.388505</td>\n",
              "      <td>8.070707</td>\n",
              "    </tr>\n",
              "    <tr>\n",
              "      <th>199999</th>\n",
              "      <td>499990</td>\n",
              "      <td>0.688188</td>\n",
              "      <td>0.358328</td>\n",
              "      <td>0.644511</td>\n",
              "      <td>0.766354</td>\n",
              "      <td>0.747591</td>\n",
              "      <td>0.727329</td>\n",
              "      <td>0.468329</td>\n",
              "      <td>0.576711</td>\n",
              "      <td>0.453124</td>\n",
              "      <td>0.381600</td>\n",
              "      <td>0.299126</td>\n",
              "      <td>0.499627</td>\n",
              "      <td>0.691078</td>\n",
              "      <td>0.668109</td>\n",
              "      <td>7.877386</td>\n",
              "    </tr>\n",
              "  </tbody>\n",
              "</table>\n",
              "<p>200000 rows × 16 columns</p>\n",
              "</div>"
            ],
            "text/plain": [
              "            id     cont1     cont2  ...    cont13    cont14    target\n",
              "0            0  0.353600  0.738780  ...  0.286864  0.364515  7.874655\n",
              "1            2  0.907222  0.189756  ...  0.916964  0.513002  8.005341\n",
              "2            6  0.179287  0.355353  ...  0.327164  0.827941  7.947945\n",
              "3            7  0.359385  0.181049  ...  0.299028  0.598166  8.183584\n",
              "4           10  0.335791  0.682607  ...  0.790591  0.249275  8.249832\n",
              "...        ...       ...       ...  ...       ...       ...       ...\n",
              "199995  499984  0.353856  0.677578  ...  0.373261  0.272479  8.129244\n",
              "199996  499985  0.243209  0.135627  ...  0.318334  0.395747  8.190012\n",
              "199997  499987  0.506973  0.683893  ...  0.381235  0.369464  8.110463\n",
              "199998  499988  0.347870  0.553112  ...  0.336772  0.388505  8.070707\n",
              "199999  499990  0.688188  0.358328  ...  0.691078  0.668109  7.877386\n",
              "\n",
              "[200000 rows x 16 columns]"
            ]
          },
          "metadata": {
            "tags": []
          },
          "execution_count": 25
        }
      ]
    },
    {
      "cell_type": "code",
      "metadata": {
        "id": "qFvMNK-Q8FNB"
      },
      "source": [
        "sub = pd.DataFrame(columns = ['id', 'target'])\n",
        "sub['id'] = sub_xgb['id']\n",
        "sub['target']=sub_xgb['target']\n",
        "sub.to_csv(\"submission_xgb.csv\",index=False)"
      ],
      "execution_count": 27,
      "outputs": []
    },
    {
      "cell_type": "code",
      "metadata": {
        "id": "EtY-dI2SAyHV"
      },
      "source": [
        ""
      ],
      "execution_count": null,
      "outputs": []
    }
  ]
}