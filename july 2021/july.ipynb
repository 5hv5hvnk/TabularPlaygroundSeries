{
  "nbformat": 4,
  "nbformat_minor": 0,
  "metadata": {
    "colab": {
      "name": "Untitled14.ipynb",
      "provenance": []
    },
    "kernelspec": {
      "name": "python3",
      "display_name": "Python 3"
    },
    "language_info": {
      "name": "python"
    }
  },
  "cells": [
    {
      "cell_type": "code",
      "metadata": {
        "id": "fTSJoSsznIJO"
      },
      "source": [
        "import numpy as np\n",
        "import pandas as pd\n",
        "import matplotlib.pyplot as plt\n",
        "import seaborn as sns"
      ],
      "execution_count": 1,
      "outputs": []
    },
    {
      "cell_type": "code",
      "metadata": {
        "colab": {
          "base_uri": "https://localhost:8080/"
        },
        "id": "dMKq2gTqnJeu",
        "outputId": "3b92fa50-1a9e-41ee-cd57-0c5690a58700"
      },
      "source": [
        "!pip install pycaret &> /dev/null\n",
        "print (\"installed!!\")"
      ],
      "execution_count": 2,
      "outputs": [
        {
          "output_type": "stream",
          "text": [
            "installed!!\n"
          ],
          "name": "stdout"
        }
      ]
    },
    {
      "cell_type": "code",
      "metadata": {
        "id": "O4r2nRXznSNl"
      },
      "source": [
        "data = pd.read_csv('train.csv')"
      ],
      "execution_count": 3,
      "outputs": []
    },
    {
      "cell_type": "code",
      "metadata": {
        "id": "cf67KUvJnige"
      },
      "source": [
        "from pycaret.regression import *"
      ],
      "execution_count": 4,
      "outputs": []
    },
    {
      "cell_type": "code",
      "metadata": {
        "id": "rMM7voWcnkGE"
      },
      "source": [
        "data1 = data.drop(['target_benzene','target_nitrogen_oxides'],axis=1)\n",
        "data1"
      ],
      "execution_count": null,
      "outputs": []
    },
    {
      "cell_type": "code",
      "metadata": {
        "id": "Da5zJ6EenmzO"
      },
      "source": [
        "s = setup(data =  data1, target='target_carbon_monoxide', train_size=0.8, silent=True,remove_outliers = True, outliers_threshold = 0.05, normalize = True, normalize_method = 'zscore')"
      ],
      "execution_count": null,
      "outputs": []
    },
    {
      "cell_type": "code",
      "metadata": {
        "id": "jw8rdNoxnpWV"
      },
      "source": [
        "cm = compare_models() #outliers and normaisation"
      ],
      "execution_count": null,
      "outputs": []
    },
    {
      "cell_type": "code",
      "metadata": {
        "id": "JRm1tMWOnskh"
      },
      "source": [
        "test = pd.read_csv('test.csv')"
      ],
      "execution_count": 8,
      "outputs": []
    },
    {
      "cell_type": "code",
      "metadata": {
        "id": "pqFlHd23n5_x"
      },
      "source": [
        "sol = pd.DataFrame()"
      ],
      "execution_count": 9,
      "outputs": []
    },
    {
      "cell_type": "code",
      "metadata": {
        "id": "lKNGJ298oaV2"
      },
      "source": [
        "Model = create_model('lightgbm')"
      ],
      "execution_count": null,
      "outputs": []
    },
    {
      "cell_type": "code",
      "metadata": {
        "id": "iVuoEL8dn0UQ"
      },
      "source": [
        "newPredictions1 = predict_model(Model, data = test)\n",
        "newPredictions1.round(0)"
      ],
      "execution_count": null,
      "outputs": []
    },
    {
      "cell_type": "code",
      "metadata": {
        "id": "Z0HCF1m8opcV"
      },
      "source": [
        "sol['date_time']=test['date_time']"
      ],
      "execution_count": 12,
      "outputs": []
    },
    {
      "cell_type": "code",
      "metadata": {
        "id": "AMn4LAoTo27V"
      },
      "source": [
        "sol['target_carbon_monoxide']=newPredictions1['Label']"
      ],
      "execution_count": 20,
      "outputs": []
    },
    {
      "cell_type": "code",
      "metadata": {
        "id": "noAZyN2IpYn5"
      },
      "source": [
        "data2 = data.drop(['target_carbon_monoxide','target_nitrogen_oxides'],axis=1)\n",
        "data2"
      ],
      "execution_count": null,
      "outputs": []
    },
    {
      "cell_type": "code",
      "metadata": {
        "id": "GwDy4Bz1pfPI"
      },
      "source": [
        "s2 = setup(data =  data2, target='target_benzene', train_size=0.7, silent=True)"
      ],
      "execution_count": null,
      "outputs": []
    },
    {
      "cell_type": "code",
      "metadata": {
        "id": "j-s_ZGwIpfT5"
      },
      "source": [
        "cm2 = compare_models()"
      ],
      "execution_count": null,
      "outputs": []
    },
    {
      "cell_type": "code",
      "metadata": {
        "id": "gTMoeK2xpfX-"
      },
      "source": [
        "etModel = create_model('et')"
      ],
      "execution_count": null,
      "outputs": []
    },
    {
      "cell_type": "code",
      "metadata": {
        "id": "wBAg9TsUpfb3"
      },
      "source": [
        "newPredictions2 = predict_model(etModel, data = test)\n",
        "newPredictions2.round(0)"
      ],
      "execution_count": null,
      "outputs": []
    },
    {
      "cell_type": "code",
      "metadata": {
        "id": "sCBRM80WpfgG"
      },
      "source": [
        "sol['target_benzene']=newPredictions2['Label']"
      ],
      "execution_count": 33,
      "outputs": []
    },
    {
      "cell_type": "code",
      "metadata": {
        "id": "NtGwNKmZvKyp"
      },
      "source": [
        "data3 = data.drop(['target_carbon_monoxide','target_benzene'],axis=1)"
      ],
      "execution_count": 37,
      "outputs": []
    },
    {
      "cell_type": "code",
      "metadata": {
        "id": "teA1WKPMpfkU"
      },
      "source": [
        "s3 = setup(data =  data3, target='target_nitrogen_oxides', train_size=0.7, silent=True)"
      ],
      "execution_count": null,
      "outputs": []
    },
    {
      "cell_type": "code",
      "metadata": {
        "id": "OECj2Qpjpfo6"
      },
      "source": [
        "cm2 = compare_models()"
      ],
      "execution_count": null,
      "outputs": []
    },
    {
      "cell_type": "code",
      "metadata": {
        "id": "m9oTFO9upftq"
      },
      "source": [
        "etModel = create_model('et')"
      ],
      "execution_count": null,
      "outputs": []
    },
    {
      "cell_type": "code",
      "metadata": {
        "id": "vz84W7i_pfyL"
      },
      "source": [
        "newPredictions3 = predict_model(etModel, data = test)\n",
        "newPredictions3"
      ],
      "execution_count": null,
      "outputs": []
    },
    {
      "cell_type": "code",
      "metadata": {
        "id": "8B81_ZlSpf2h"
      },
      "source": [
        "sol['target_nitrogen_oxides']=newPredictions3['Label']"
      ],
      "execution_count": 43,
      "outputs": []
    },
    {
      "cell_type": "code",
      "metadata": {
        "id": "cQhehztBpf7d"
      },
      "source": [
        ""
      ],
      "execution_count": null,
      "outputs": []
    },
    {
      "cell_type": "code",
      "metadata": {
        "colab": {
          "base_uri": "https://localhost:8080/",
          "height": 419
        },
        "id": "Npq_wcrgoz56",
        "outputId": "25254924-58a9-45c1-b421-120cc553d853"
      },
      "source": [
        "sol"
      ],
      "execution_count": 44,
      "outputs": [
        {
          "output_type": "execute_result",
          "data": {
            "text/html": [
              "<div>\n",
              "<style scoped>\n",
              "    .dataframe tbody tr th:only-of-type {\n",
              "        vertical-align: middle;\n",
              "    }\n",
              "\n",
              "    .dataframe tbody tr th {\n",
              "        vertical-align: top;\n",
              "    }\n",
              "\n",
              "    .dataframe thead th {\n",
              "        text-align: right;\n",
              "    }\n",
              "</style>\n",
              "<table border=\"1\" class=\"dataframe\">\n",
              "  <thead>\n",
              "    <tr style=\"text-align: right;\">\n",
              "      <th></th>\n",
              "      <th>date_time</th>\n",
              "      <th>target_carbon_monoxide</th>\n",
              "      <th>target_benzene</th>\n",
              "      <th>target_nitrogen_oxides</th>\n",
              "    </tr>\n",
              "  </thead>\n",
              "  <tbody>\n",
              "    <tr>\n",
              "      <th>0</th>\n",
              "      <td>2011-01-01 00:00:00</td>\n",
              "      <td>1.225846</td>\n",
              "      <td>7.142</td>\n",
              "      <td>186.500000</td>\n",
              "    </tr>\n",
              "    <tr>\n",
              "      <th>1</th>\n",
              "      <td>2011-01-01 01:00:00</td>\n",
              "      <td>1.306812</td>\n",
              "      <td>7.142</td>\n",
              "      <td>207.061000</td>\n",
              "    </tr>\n",
              "    <tr>\n",
              "      <th>2</th>\n",
              "      <td>2011-01-01 02:00:00</td>\n",
              "      <td>1.322596</td>\n",
              "      <td>7.142</td>\n",
              "      <td>125.156999</td>\n",
              "    </tr>\n",
              "    <tr>\n",
              "      <th>3</th>\n",
              "      <td>2011-01-01 03:00:00</td>\n",
              "      <td>1.659284</td>\n",
              "      <td>7.142</td>\n",
              "      <td>160.998998</td>\n",
              "    </tr>\n",
              "    <tr>\n",
              "      <th>4</th>\n",
              "      <td>2011-01-01 04:00:00</td>\n",
              "      <td>0.997172</td>\n",
              "      <td>7.142</td>\n",
              "      <td>112.044000</td>\n",
              "    </tr>\n",
              "    <tr>\n",
              "      <th>...</th>\n",
              "      <td>...</td>\n",
              "      <td>...</td>\n",
              "      <td>...</td>\n",
              "      <td>...</td>\n",
              "    </tr>\n",
              "    <tr>\n",
              "      <th>2242</th>\n",
              "      <td>2011-04-04 10:00:00</td>\n",
              "      <td>2.467966</td>\n",
              "      <td>7.197</td>\n",
              "      <td>286.392002</td>\n",
              "    </tr>\n",
              "    <tr>\n",
              "      <th>2243</th>\n",
              "      <td>2011-04-04 11:00:00</td>\n",
              "      <td>2.098095</td>\n",
              "      <td>7.219</td>\n",
              "      <td>158.806999</td>\n",
              "    </tr>\n",
              "    <tr>\n",
              "      <th>2244</th>\n",
              "      <td>2011-04-04 12:00:00</td>\n",
              "      <td>2.157116</td>\n",
              "      <td>7.174</td>\n",
              "      <td>160.894000</td>\n",
              "    </tr>\n",
              "    <tr>\n",
              "      <th>2245</th>\n",
              "      <td>2011-04-04 13:00:00</td>\n",
              "      <td>1.893650</td>\n",
              "      <td>7.163</td>\n",
              "      <td>122.679000</td>\n",
              "    </tr>\n",
              "    <tr>\n",
              "      <th>2246</th>\n",
              "      <td>2011-04-04 14:00:00</td>\n",
              "      <td>1.800082</td>\n",
              "      <td>7.201</td>\n",
              "      <td>144.974000</td>\n",
              "    </tr>\n",
              "  </tbody>\n",
              "</table>\n",
              "<p>2247 rows × 4 columns</p>\n",
              "</div>"
            ],
            "text/plain": [
              "                date_time  ...  target_nitrogen_oxides\n",
              "0     2011-01-01 00:00:00  ...              186.500000\n",
              "1     2011-01-01 01:00:00  ...              207.061000\n",
              "2     2011-01-01 02:00:00  ...              125.156999\n",
              "3     2011-01-01 03:00:00  ...              160.998998\n",
              "4     2011-01-01 04:00:00  ...              112.044000\n",
              "...                   ...  ...                     ...\n",
              "2242  2011-04-04 10:00:00  ...              286.392002\n",
              "2243  2011-04-04 11:00:00  ...              158.806999\n",
              "2244  2011-04-04 12:00:00  ...              160.894000\n",
              "2245  2011-04-04 13:00:00  ...              122.679000\n",
              "2246  2011-04-04 14:00:00  ...              144.974000\n",
              "\n",
              "[2247 rows x 4 columns]"
            ]
          },
          "metadata": {
            "tags": []
          },
          "execution_count": 44
        }
      ]
    },
    {
      "cell_type": "code",
      "metadata": {
        "id": "7R3fb5C7o1tr"
      },
      "source": [
        "final_sub = sol.round(0)"
      ],
      "execution_count": 45,
      "outputs": []
    },
    {
      "cell_type": "code",
      "metadata": {
        "colab": {
          "base_uri": "https://localhost:8080/",
          "height": 419
        },
        "id": "vK2boiF7w4q5",
        "outputId": "447f9d59-5791-40e2-ca5c-15dc6294331e"
      },
      "source": [
        "final_sub"
      ],
      "execution_count": 46,
      "outputs": [
        {
          "output_type": "execute_result",
          "data": {
            "text/html": [
              "<div>\n",
              "<style scoped>\n",
              "    .dataframe tbody tr th:only-of-type {\n",
              "        vertical-align: middle;\n",
              "    }\n",
              "\n",
              "    .dataframe tbody tr th {\n",
              "        vertical-align: top;\n",
              "    }\n",
              "\n",
              "    .dataframe thead th {\n",
              "        text-align: right;\n",
              "    }\n",
              "</style>\n",
              "<table border=\"1\" class=\"dataframe\">\n",
              "  <thead>\n",
              "    <tr style=\"text-align: right;\">\n",
              "      <th></th>\n",
              "      <th>date_time</th>\n",
              "      <th>target_carbon_monoxide</th>\n",
              "      <th>target_benzene</th>\n",
              "      <th>target_nitrogen_oxides</th>\n",
              "    </tr>\n",
              "  </thead>\n",
              "  <tbody>\n",
              "    <tr>\n",
              "      <th>0</th>\n",
              "      <td>2011-01-01 00:00:00</td>\n",
              "      <td>1.0</td>\n",
              "      <td>7.0</td>\n",
              "      <td>186.0</td>\n",
              "    </tr>\n",
              "    <tr>\n",
              "      <th>1</th>\n",
              "      <td>2011-01-01 01:00:00</td>\n",
              "      <td>1.0</td>\n",
              "      <td>7.0</td>\n",
              "      <td>207.0</td>\n",
              "    </tr>\n",
              "    <tr>\n",
              "      <th>2</th>\n",
              "      <td>2011-01-01 02:00:00</td>\n",
              "      <td>1.0</td>\n",
              "      <td>7.0</td>\n",
              "      <td>125.0</td>\n",
              "    </tr>\n",
              "    <tr>\n",
              "      <th>3</th>\n",
              "      <td>2011-01-01 03:00:00</td>\n",
              "      <td>2.0</td>\n",
              "      <td>7.0</td>\n",
              "      <td>161.0</td>\n",
              "    </tr>\n",
              "    <tr>\n",
              "      <th>4</th>\n",
              "      <td>2011-01-01 04:00:00</td>\n",
              "      <td>1.0</td>\n",
              "      <td>7.0</td>\n",
              "      <td>112.0</td>\n",
              "    </tr>\n",
              "    <tr>\n",
              "      <th>...</th>\n",
              "      <td>...</td>\n",
              "      <td>...</td>\n",
              "      <td>...</td>\n",
              "      <td>...</td>\n",
              "    </tr>\n",
              "    <tr>\n",
              "      <th>2242</th>\n",
              "      <td>2011-04-04 10:00:00</td>\n",
              "      <td>2.0</td>\n",
              "      <td>7.0</td>\n",
              "      <td>286.0</td>\n",
              "    </tr>\n",
              "    <tr>\n",
              "      <th>2243</th>\n",
              "      <td>2011-04-04 11:00:00</td>\n",
              "      <td>2.0</td>\n",
              "      <td>7.0</td>\n",
              "      <td>159.0</td>\n",
              "    </tr>\n",
              "    <tr>\n",
              "      <th>2244</th>\n",
              "      <td>2011-04-04 12:00:00</td>\n",
              "      <td>2.0</td>\n",
              "      <td>7.0</td>\n",
              "      <td>161.0</td>\n",
              "    </tr>\n",
              "    <tr>\n",
              "      <th>2245</th>\n",
              "      <td>2011-04-04 13:00:00</td>\n",
              "      <td>2.0</td>\n",
              "      <td>7.0</td>\n",
              "      <td>123.0</td>\n",
              "    </tr>\n",
              "    <tr>\n",
              "      <th>2246</th>\n",
              "      <td>2011-04-04 14:00:00</td>\n",
              "      <td>2.0</td>\n",
              "      <td>7.0</td>\n",
              "      <td>145.0</td>\n",
              "    </tr>\n",
              "  </tbody>\n",
              "</table>\n",
              "<p>2247 rows × 4 columns</p>\n",
              "</div>"
            ],
            "text/plain": [
              "                date_time  ...  target_nitrogen_oxides\n",
              "0     2011-01-01 00:00:00  ...                   186.0\n",
              "1     2011-01-01 01:00:00  ...                   207.0\n",
              "2     2011-01-01 02:00:00  ...                   125.0\n",
              "3     2011-01-01 03:00:00  ...                   161.0\n",
              "4     2011-01-01 04:00:00  ...                   112.0\n",
              "...                   ...  ...                     ...\n",
              "2242  2011-04-04 10:00:00  ...                   286.0\n",
              "2243  2011-04-04 11:00:00  ...                   159.0\n",
              "2244  2011-04-04 12:00:00  ...                   161.0\n",
              "2245  2011-04-04 13:00:00  ...                   123.0\n",
              "2246  2011-04-04 14:00:00  ...                   145.0\n",
              "\n",
              "[2247 rows x 4 columns]"
            ]
          },
          "metadata": {
            "tags": []
          },
          "execution_count": 46
        }
      ]
    },
    {
      "cell_type": "code",
      "metadata": {
        "id": "5aE_2UYXw57P"
      },
      "source": [
        "final_sub.to_csv('final.csv')"
      ],
      "execution_count": 48,
      "outputs": []
    },
    {
      "cell_type": "code",
      "metadata": {
        "id": "H44V88EExDQO"
      },
      "source": [
        ""
      ],
      "execution_count": null,
      "outputs": []
    }
  ]
}