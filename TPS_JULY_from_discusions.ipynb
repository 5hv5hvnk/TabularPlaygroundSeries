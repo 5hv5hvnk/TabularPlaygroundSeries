{
  "nbformat": 4,
  "nbformat_minor": 0,
  "metadata": {
    "colab": {
      "name": "TPS_JULY_fromdiscusions.ipynb",
      "provenance": [],
      "authorship_tag": "ABX9TyOsXOiATlXAG1osUNe9lOl6",
      "include_colab_link": true
    },
    "kernelspec": {
      "name": "python3",
      "display_name": "Python 3"
    },
    "language_info": {
      "name": "python"
    }
  },
  "cells": [
    {
      "cell_type": "markdown",
      "metadata": {
        "id": "view-in-github",
        "colab_type": "text"
      },
      "source": [
        "<a href=\"https://colab.research.google.com/github/5hv5hvnk/TabularPlaygroundSeries/blob/master/TPS_JULY_from_discusions.ipynb\" target=\"_parent\"><img src=\"https://colab.research.google.com/assets/colab-badge.svg\" alt=\"Open In Colab\"/></a>"
      ]
    },
    {
      "cell_type": "markdown",
      "metadata": {
        "id": "NogJ8Y-22MMk"
      },
      "source": [
        "### Working idea is from discussion forum by Mehran Kazeminia"
      ]
    },
    {
      "cell_type": "code",
      "metadata": {
        "id": "eVcU6l0G2FP4"
      },
      "source": [
        "import numpy as np \n",
        "import pandas as pd\n",
        "import seaborn as sns\n",
        "\n",
        "import matplotlib.pyplot as plt"
      ],
      "execution_count": null,
      "outputs": []
    },
    {
      "cell_type": "code",
      "metadata": {
        "id": "q8eR3Rio2dsW"
      },
      "source": [
        "from xgboost import XGBRegressor\n",
        "from sklearn.linear_model import Ridge\n",
        "\n",
        "from sklearn.metrics import accuracy_score\n",
        "from sklearn.metrics import mean_absolute_error\n",
        "from sklearn.model_selection import train_test_split\n",
        "\n",
        "from sklearn.model_selection import cross_val_score\n",
        "from sklearn.model_selection import LeaveOneGroupOut"
      ],
      "execution_count": null,
      "outputs": []
    },
    {
      "cell_type": "code",
      "metadata": {
        "id": "gsJwgBZG25x2"
      },
      "source": [
        "DF1 = pd.read_csv('train.csv')\n",
        "\n",
        "DF2 = pd.read_csv('test.csv')"
      ],
      "execution_count": null,
      "outputs": []
    },
    {
      "cell_type": "code",
      "metadata": {
        "colab": {
          "base_uri": "https://localhost:8080/"
        },
        "id": "ywBm0Q_I3ECf",
        "outputId": "45ef73fe-1d1e-47f0-c5f2-e14fac0cefee"
      },
      "source": [
        "MV1 = DF1.isnull().sum()\n",
        "MV2 = DF2.isnull().sum()\n",
        "\n",
        "print(f'Missing Value 1:  {MV1[MV1 > 0]}')\n",
        "print(f'Missing Value 2:  {MV2[MV2 > 0]}')"
      ],
      "execution_count": null,
      "outputs": [
        {
          "output_type": "stream",
          "text": [
            "Missing Value 1:  Series([], dtype: int64)\n",
            "Missing Value 2:  Series([], dtype: int64)\n"
          ],
          "name": "stdout"
        }
      ]
    },
    {
      "cell_type": "code",
      "metadata": {
        "id": "EcbI1lPu3Gmh"
      },
      "source": [
        "DF1"
      ],
      "execution_count": null,
      "outputs": []
    },
    {
      "cell_type": "code",
      "metadata": {
        "id": "3zEcyngQ3J2n"
      },
      "source": [
        "DF2"
      ],
      "execution_count": null,
      "outputs": []
    },
    {
      "cell_type": "code",
      "metadata": {
        "id": "ahA62J7v3Kfi"
      },
      "source": [
        "data1 = DF1.copy()\n",
        "data2 = DF2.copy()"
      ],
      "execution_count": null,
      "outputs": []
    },
    {
      "cell_type": "code",
      "metadata": {
        "colab": {
          "base_uri": "https://localhost:8080/"
        },
        "id": "aQbnQbRa3Ob0",
        "outputId": "49acaae7-ee18-4e60-80e2-dfb69835aa68"
      },
      "source": [
        "type(data1)"
      ],
      "execution_count": null,
      "outputs": [
        {
          "output_type": "execute_result",
          "data": {
            "text/plain": [
              "pandas.core.frame.DataFrame"
            ]
          },
          "metadata": {
            "tags": []
          },
          "execution_count": 9
        }
      ]
    },
    {
      "cell_type": "code",
      "metadata": {
        "colab": {
          "base_uri": "https://localhost:8080/",
          "height": 411
        },
        "id": "ly0c3FOs3QPE",
        "outputId": "cf3ba184-f645-410f-9603-2d0110b8549f"
      },
      "source": [
        "X = data1.drop(columns = ['target_carbon_monoxide', 'target_benzene', 'target_nitrogen_oxides'])\n",
        "X['date_time'] = X['date_time'].astype('datetime64[ns]').astype(np.int64)/10**9 \n",
        "# converting date time into inteagers instead\n",
        "\n",
        "X"
      ],
      "execution_count": null,
      "outputs": [
        {
          "output_type": "execute_result",
          "data": {
            "text/html": [
              "<div>\n",
              "<style scoped>\n",
              "    .dataframe tbody tr th:only-of-type {\n",
              "        vertical-align: middle;\n",
              "    }\n",
              "\n",
              "    .dataframe tbody tr th {\n",
              "        vertical-align: top;\n",
              "    }\n",
              "\n",
              "    .dataframe thead th {\n",
              "        text-align: right;\n",
              "    }\n",
              "</style>\n",
              "<table border=\"1\" class=\"dataframe\">\n",
              "  <thead>\n",
              "    <tr style=\"text-align: right;\">\n",
              "      <th></th>\n",
              "      <th>date_time</th>\n",
              "      <th>deg_C</th>\n",
              "      <th>relative_humidity</th>\n",
              "      <th>absolute_humidity</th>\n",
              "      <th>sensor_1</th>\n",
              "      <th>sensor_2</th>\n",
              "      <th>sensor_3</th>\n",
              "      <th>sensor_4</th>\n",
              "      <th>sensor_5</th>\n",
              "    </tr>\n",
              "  </thead>\n",
              "  <tbody>\n",
              "    <tr>\n",
              "      <th>0</th>\n",
              "      <td>1.268244e+09</td>\n",
              "      <td>13.1</td>\n",
              "      <td>46.0</td>\n",
              "      <td>0.7578</td>\n",
              "      <td>1387.2</td>\n",
              "      <td>1087.8</td>\n",
              "      <td>1056.0</td>\n",
              "      <td>1742.8</td>\n",
              "      <td>1293.4</td>\n",
              "    </tr>\n",
              "    <tr>\n",
              "      <th>1</th>\n",
              "      <td>1.268248e+09</td>\n",
              "      <td>13.2</td>\n",
              "      <td>45.3</td>\n",
              "      <td>0.7255</td>\n",
              "      <td>1279.1</td>\n",
              "      <td>888.2</td>\n",
              "      <td>1197.5</td>\n",
              "      <td>1449.9</td>\n",
              "      <td>1010.9</td>\n",
              "    </tr>\n",
              "    <tr>\n",
              "      <th>2</th>\n",
              "      <td>1.268251e+09</td>\n",
              "      <td>12.6</td>\n",
              "      <td>56.2</td>\n",
              "      <td>0.7502</td>\n",
              "      <td>1331.9</td>\n",
              "      <td>929.6</td>\n",
              "      <td>1060.2</td>\n",
              "      <td>1586.1</td>\n",
              "      <td>1117.0</td>\n",
              "    </tr>\n",
              "    <tr>\n",
              "      <th>3</th>\n",
              "      <td>1.268255e+09</td>\n",
              "      <td>11.0</td>\n",
              "      <td>62.4</td>\n",
              "      <td>0.7867</td>\n",
              "      <td>1321.0</td>\n",
              "      <td>929.0</td>\n",
              "      <td>1102.9</td>\n",
              "      <td>1536.5</td>\n",
              "      <td>1263.2</td>\n",
              "    </tr>\n",
              "    <tr>\n",
              "      <th>4</th>\n",
              "      <td>1.268258e+09</td>\n",
              "      <td>11.9</td>\n",
              "      <td>59.0</td>\n",
              "      <td>0.7888</td>\n",
              "      <td>1272.0</td>\n",
              "      <td>852.7</td>\n",
              "      <td>1180.9</td>\n",
              "      <td>1415.5</td>\n",
              "      <td>1132.2</td>\n",
              "    </tr>\n",
              "    <tr>\n",
              "      <th>...</th>\n",
              "      <td>...</td>\n",
              "      <td>...</td>\n",
              "      <td>...</td>\n",
              "      <td>...</td>\n",
              "      <td>...</td>\n",
              "      <td>...</td>\n",
              "      <td>...</td>\n",
              "      <td>...</td>\n",
              "      <td>...</td>\n",
              "    </tr>\n",
              "    <tr>\n",
              "      <th>7106</th>\n",
              "      <td>1.293826e+09</td>\n",
              "      <td>9.2</td>\n",
              "      <td>32.0</td>\n",
              "      <td>0.3871</td>\n",
              "      <td>1000.5</td>\n",
              "      <td>811.2</td>\n",
              "      <td>873.0</td>\n",
              "      <td>909.0</td>\n",
              "      <td>910.5</td>\n",
              "    </tr>\n",
              "    <tr>\n",
              "      <th>7107</th>\n",
              "      <td>1.293829e+09</td>\n",
              "      <td>9.1</td>\n",
              "      <td>33.2</td>\n",
              "      <td>0.3766</td>\n",
              "      <td>1022.7</td>\n",
              "      <td>790.0</td>\n",
              "      <td>951.6</td>\n",
              "      <td>912.9</td>\n",
              "      <td>903.4</td>\n",
              "    </tr>\n",
              "    <tr>\n",
              "      <th>7108</th>\n",
              "      <td>1.293833e+09</td>\n",
              "      <td>9.6</td>\n",
              "      <td>34.6</td>\n",
              "      <td>0.4310</td>\n",
              "      <td>1044.4</td>\n",
              "      <td>767.3</td>\n",
              "      <td>861.9</td>\n",
              "      <td>889.2</td>\n",
              "      <td>1159.1</td>\n",
              "    </tr>\n",
              "    <tr>\n",
              "      <th>7109</th>\n",
              "      <td>1.293836e+09</td>\n",
              "      <td>8.0</td>\n",
              "      <td>40.7</td>\n",
              "      <td>0.4085</td>\n",
              "      <td>952.8</td>\n",
              "      <td>691.9</td>\n",
              "      <td>908.5</td>\n",
              "      <td>917.0</td>\n",
              "      <td>1206.3</td>\n",
              "    </tr>\n",
              "    <tr>\n",
              "      <th>7110</th>\n",
              "      <td>1.293840e+09</td>\n",
              "      <td>8.0</td>\n",
              "      <td>41.3</td>\n",
              "      <td>0.4375</td>\n",
              "      <td>1108.8</td>\n",
              "      <td>745.7</td>\n",
              "      <td>797.1</td>\n",
              "      <td>880.0</td>\n",
              "      <td>1273.1</td>\n",
              "    </tr>\n",
              "  </tbody>\n",
              "</table>\n",
              "<p>7111 rows × 9 columns</p>\n",
              "</div>"
            ],
            "text/plain": [
              "         date_time  deg_C  relative_humidity  ...  sensor_3  sensor_4  sensor_5\n",
              "0     1.268244e+09   13.1               46.0  ...    1056.0    1742.8    1293.4\n",
              "1     1.268248e+09   13.2               45.3  ...    1197.5    1449.9    1010.9\n",
              "2     1.268251e+09   12.6               56.2  ...    1060.2    1586.1    1117.0\n",
              "3     1.268255e+09   11.0               62.4  ...    1102.9    1536.5    1263.2\n",
              "4     1.268258e+09   11.9               59.0  ...    1180.9    1415.5    1132.2\n",
              "...            ...    ...                ...  ...       ...       ...       ...\n",
              "7106  1.293826e+09    9.2               32.0  ...     873.0     909.0     910.5\n",
              "7107  1.293829e+09    9.1               33.2  ...     951.6     912.9     903.4\n",
              "7108  1.293833e+09    9.6               34.6  ...     861.9     889.2    1159.1\n",
              "7109  1.293836e+09    8.0               40.7  ...     908.5     917.0    1206.3\n",
              "7110  1.293840e+09    8.0               41.3  ...     797.1     880.0    1273.1\n",
              "\n",
              "[7111 rows x 9 columns]"
            ]
          },
          "metadata": {
            "tags": []
          },
          "execution_count": 14
        }
      ]
    },
    {
      "cell_type": "code",
      "metadata": {
        "colab": {
          "base_uri": "https://localhost:8080/",
          "height": 411
        },
        "id": "SbGgFQCx3TB-",
        "outputId": "ae514167-83cb-4b5d-e41b-2bf8d136b3e9"
      },
      "source": [
        "XX = data2.copy()\n",
        "XX['date_time'] = XX['date_time'].astype('datetime64[ns]').astype(np.int64)/10**9\n",
        "\n",
        "XX"
      ],
      "execution_count": null,
      "outputs": [
        {
          "output_type": "execute_result",
          "data": {
            "text/html": [
              "<div>\n",
              "<style scoped>\n",
              "    .dataframe tbody tr th:only-of-type {\n",
              "        vertical-align: middle;\n",
              "    }\n",
              "\n",
              "    .dataframe tbody tr th {\n",
              "        vertical-align: top;\n",
              "    }\n",
              "\n",
              "    .dataframe thead th {\n",
              "        text-align: right;\n",
              "    }\n",
              "</style>\n",
              "<table border=\"1\" class=\"dataframe\">\n",
              "  <thead>\n",
              "    <tr style=\"text-align: right;\">\n",
              "      <th></th>\n",
              "      <th>date_time</th>\n",
              "      <th>deg_C</th>\n",
              "      <th>relative_humidity</th>\n",
              "      <th>absolute_humidity</th>\n",
              "      <th>sensor_1</th>\n",
              "      <th>sensor_2</th>\n",
              "      <th>sensor_3</th>\n",
              "      <th>sensor_4</th>\n",
              "      <th>sensor_5</th>\n",
              "    </tr>\n",
              "  </thead>\n",
              "  <tbody>\n",
              "    <tr>\n",
              "      <th>0</th>\n",
              "      <td>1.293840e+09</td>\n",
              "      <td>8.0</td>\n",
              "      <td>41.3</td>\n",
              "      <td>0.4375</td>\n",
              "      <td>1108.8</td>\n",
              "      <td>745.7</td>\n",
              "      <td>797.1</td>\n",
              "      <td>880.0</td>\n",
              "      <td>1273.1</td>\n",
              "    </tr>\n",
              "    <tr>\n",
              "      <th>1</th>\n",
              "      <td>1.293844e+09</td>\n",
              "      <td>5.1</td>\n",
              "      <td>51.7</td>\n",
              "      <td>0.4564</td>\n",
              "      <td>1249.5</td>\n",
              "      <td>864.9</td>\n",
              "      <td>687.9</td>\n",
              "      <td>972.8</td>\n",
              "      <td>1714.0</td>\n",
              "    </tr>\n",
              "    <tr>\n",
              "      <th>2</th>\n",
              "      <td>1.293847e+09</td>\n",
              "      <td>5.8</td>\n",
              "      <td>51.5</td>\n",
              "      <td>0.4689</td>\n",
              "      <td>1102.6</td>\n",
              "      <td>878.0</td>\n",
              "      <td>693.7</td>\n",
              "      <td>941.9</td>\n",
              "      <td>1300.8</td>\n",
              "    </tr>\n",
              "    <tr>\n",
              "      <th>3</th>\n",
              "      <td>1.293851e+09</td>\n",
              "      <td>5.0</td>\n",
              "      <td>52.3</td>\n",
              "      <td>0.4693</td>\n",
              "      <td>1139.7</td>\n",
              "      <td>916.2</td>\n",
              "      <td>725.6</td>\n",
              "      <td>1011.0</td>\n",
              "      <td>1283.0</td>\n",
              "    </tr>\n",
              "    <tr>\n",
              "      <th>4</th>\n",
              "      <td>1.293854e+09</td>\n",
              "      <td>4.5</td>\n",
              "      <td>57.5</td>\n",
              "      <td>0.4650</td>\n",
              "      <td>1022.4</td>\n",
              "      <td>838.5</td>\n",
              "      <td>871.5</td>\n",
              "      <td>967.0</td>\n",
              "      <td>1142.3</td>\n",
              "    </tr>\n",
              "    <tr>\n",
              "      <th>...</th>\n",
              "      <td>...</td>\n",
              "      <td>...</td>\n",
              "      <td>...</td>\n",
              "      <td>...</td>\n",
              "      <td>...</td>\n",
              "      <td>...</td>\n",
              "      <td>...</td>\n",
              "      <td>...</td>\n",
              "      <td>...</td>\n",
              "    </tr>\n",
              "    <tr>\n",
              "      <th>2242</th>\n",
              "      <td>1.301911e+09</td>\n",
              "      <td>23.2</td>\n",
              "      <td>28.7</td>\n",
              "      <td>0.7568</td>\n",
              "      <td>1340.3</td>\n",
              "      <td>1023.9</td>\n",
              "      <td>522.8</td>\n",
              "      <td>1374.0</td>\n",
              "      <td>1659.8</td>\n",
              "    </tr>\n",
              "    <tr>\n",
              "      <th>2243</th>\n",
              "      <td>1.301915e+09</td>\n",
              "      <td>24.5</td>\n",
              "      <td>22.5</td>\n",
              "      <td>0.7119</td>\n",
              "      <td>1232.8</td>\n",
              "      <td>955.1</td>\n",
              "      <td>616.1</td>\n",
              "      <td>1226.1</td>\n",
              "      <td>1269.0</td>\n",
              "    </tr>\n",
              "    <tr>\n",
              "      <th>2244</th>\n",
              "      <td>1.301918e+09</td>\n",
              "      <td>26.6</td>\n",
              "      <td>19.0</td>\n",
              "      <td>0.6406</td>\n",
              "      <td>1187.7</td>\n",
              "      <td>1052.4</td>\n",
              "      <td>572.8</td>\n",
              "      <td>1253.4</td>\n",
              "      <td>1081.1</td>\n",
              "    </tr>\n",
              "    <tr>\n",
              "      <th>2245</th>\n",
              "      <td>1.301922e+09</td>\n",
              "      <td>29.1</td>\n",
              "      <td>12.7</td>\n",
              "      <td>0.5139</td>\n",
              "      <td>1053.2</td>\n",
              "      <td>1009.0</td>\n",
              "      <td>702.0</td>\n",
              "      <td>1009.8</td>\n",
              "      <td>808.5</td>\n",
              "    </tr>\n",
              "    <tr>\n",
              "      <th>2246</th>\n",
              "      <td>1.301926e+09</td>\n",
              "      <td>27.9</td>\n",
              "      <td>13.5</td>\n",
              "      <td>0.5028</td>\n",
              "      <td>1124.6</td>\n",
              "      <td>1078.4</td>\n",
              "      <td>608.2</td>\n",
              "      <td>1061.3</td>\n",
              "      <td>816.0</td>\n",
              "    </tr>\n",
              "  </tbody>\n",
              "</table>\n",
              "<p>2247 rows × 9 columns</p>\n",
              "</div>"
            ],
            "text/plain": [
              "         date_time  deg_C  relative_humidity  ...  sensor_3  sensor_4  sensor_5\n",
              "0     1.293840e+09    8.0               41.3  ...     797.1     880.0    1273.1\n",
              "1     1.293844e+09    5.1               51.7  ...     687.9     972.8    1714.0\n",
              "2     1.293847e+09    5.8               51.5  ...     693.7     941.9    1300.8\n",
              "3     1.293851e+09    5.0               52.3  ...     725.6    1011.0    1283.0\n",
              "4     1.293854e+09    4.5               57.5  ...     871.5     967.0    1142.3\n",
              "...            ...    ...                ...  ...       ...       ...       ...\n",
              "2242  1.301911e+09   23.2               28.7  ...     522.8    1374.0    1659.8\n",
              "2243  1.301915e+09   24.5               22.5  ...     616.1    1226.1    1269.0\n",
              "2244  1.301918e+09   26.6               19.0  ...     572.8    1253.4    1081.1\n",
              "2245  1.301922e+09   29.1               12.7  ...     702.0    1009.8     808.5\n",
              "2246  1.301926e+09   27.9               13.5  ...     608.2    1061.3     816.0\n",
              "\n",
              "[2247 rows x 9 columns]"
            ]
          },
          "metadata": {
            "tags": []
          },
          "execution_count": 12
        }
      ]
    },
    {
      "cell_type": "code",
      "metadata": {
        "id": "wbfcF2py3s48"
      },
      "source": [
        "y1 = data1.target_carbon_monoxide\n",
        "y2 = data1.target_benzene\n",
        "y3 = data1.target_nitrogen_oxides"
      ],
      "execution_count": null,
      "outputs": []
    },
    {
      "cell_type": "code",
      "metadata": {
        "id": "bD7vV0mf3fSL"
      },
      "source": [
        "train_X, val_X, train_y1, val_y1 = train_test_split(X, y1, test_size=0.50, random_state=123)\n",
        "train_X, val_X, train_y2, val_y2 = train_test_split(X, y2, test_size=0.50, random_state=123)\n",
        "train_X, val_X, train_y3, val_y3 = train_test_split(X, y3, test_size=0.50, random_state=123)"
      ],
      "execution_count": null,
      "outputs": []
    },
    {
      "cell_type": "code",
      "metadata": {
        "id": "kqHm9g-X3uv9"
      },
      "source": [
        "val_X.to_csv(\"val_X.csv\",index=False)\n",
        "\n",
        "val_y1.to_csv(\"val_y1.csv\",index=False)\n",
        "val_y2.to_csv(\"val_y2.csv\",index=False)\n",
        "val_y3.to_csv(\"val_y3.csv\",index=False)"
      ],
      "execution_count": null,
      "outputs": []
    },
    {
      "cell_type": "code",
      "metadata": {
        "colab": {
          "base_uri": "https://localhost:8080/"
        },
        "id": "80zjx0Lr3yEU",
        "outputId": "f13036b4-90a8-46c2-e5b5-f9ebf0ba7b6f"
      },
      "source": [
        "model1v = XGBRegressor(max_depth=6,\n",
        "                       n_estimators=250,\n",
        "                       learning_rate=0.08,\n",
        "                       subsample=0.7,\n",
        "                       alpha=0.5,\n",
        "                       random_state=123)                           \n",
        "        \n",
        "model1v.fit(train_X, train_y1, verbose=100)\n",
        "oof_pred1 = model1v.predict(val_X)\n",
        "\n",
        "oof_pred1 = np.clip(oof_pred1, 0.30, y1.max())\n",
        "# oof_pred1 = np.clip(oof_pred1, y1.min(), y1.max())\n",
        "\n",
        "\n",
        "print(mean_absolute_error(val_y1, oof_pred1))\n"
      ],
      "execution_count": null,
      "outputs": [
        {
          "output_type": "stream",
          "text": [
            "[21:01:48] WARNING: /workspace/src/objective/regression_obj.cu:152: reg:linear is now deprecated in favor of reg:squarederror.\n",
            "0.2565277456566775\n"
          ],
          "name": "stdout"
        }
      ]
    },
    {
      "cell_type": "code",
      "metadata": {
        "colab": {
          "base_uri": "https://localhost:8080/"
        },
        "id": "8b6vl_eS378f",
        "outputId": "eab02d45-71b6-4172-fb73-d29d234f35e2"
      },
      "source": [
        "model1v.feature_importances_"
      ],
      "execution_count": null,
      "outputs": [
        {
          "output_type": "execute_result",
          "data": {
            "text/plain": [
              "array([0.02008379, 0.02037151, 0.00956916, 0.02451534, 0.13862899,\n",
              "       0.70839185, 0.01844795, 0.01906173, 0.04092964], dtype=float32)"
            ]
          },
          "metadata": {
            "tags": []
          },
          "execution_count": 20
        }
      ]
    },
    {
      "cell_type": "code",
      "metadata": {
        "colab": {
          "base_uri": "https://localhost:8080/"
        },
        "id": "-cFQRHbJ4AqQ",
        "outputId": "3b912561-cfca-495e-af57-e86b269c868f"
      },
      "source": [
        "model2v = XGBRegressor(max_depth=6,\n",
        "                       n_estimators=400,\n",
        "                       learning_rate=0.07,\n",
        "                       subsample=0.7,\n",
        "                       alpha=0.7,\n",
        "                       random_state=123)          \n",
        "\n",
        "model2v.fit(train_X, train_y2, verbose=100)\n",
        "oof_pred2 = model2v.predict(val_X)\n",
        "\n",
        "oof_pred2 = np.clip(oof_pred2, 0.10, y2.max())\n",
        "# oof_pred2 = np.clip(oof_pred2, y1.max(), y2.max())\n",
        "\n",
        "\n",
        "print(mean_absolute_error(val_y2, oof_pred2))\n"
      ],
      "execution_count": null,
      "outputs": [
        {
          "output_type": "stream",
          "text": [
            "[21:02:27] WARNING: /workspace/src/objective/regression_obj.cu:152: reg:linear is now deprecated in favor of reg:squarederror.\n",
            "0.7785313118123465\n"
          ],
          "name": "stdout"
        }
      ]
    },
    {
      "cell_type": "code",
      "metadata": {
        "colab": {
          "base_uri": "https://localhost:8080/"
        },
        "id": "V3H5euuF4Hqp",
        "outputId": "3711979d-09a1-44f3-bb22-c18ec4487ee0"
      },
      "source": [
        "model2v.feature_importances_"
      ],
      "execution_count": null,
      "outputs": [
        {
          "output_type": "execute_result",
          "data": {
            "text/plain": [
              "array([0.0025329 , 0.00285254, 0.00420071, 0.00445382, 0.00621554,\n",
              "       0.94888216, 0.01229577, 0.01024676, 0.00831983], dtype=float32)"
            ]
          },
          "metadata": {
            "tags": []
          },
          "execution_count": 22
        }
      ]
    },
    {
      "cell_type": "code",
      "metadata": {
        "colab": {
          "base_uri": "https://localhost:8080/"
        },
        "id": "Fd7iRQp34Kef",
        "outputId": "b5dddf5b-5f01-4378-cc72-c961653653b4"
      },
      "source": [
        "model3v = XGBRegressor(max_depth=8,\n",
        "                       n_estimators=500,\n",
        "                       learning_rate=0.03,\n",
        "                       subsample=0.7,\n",
        "                       alpha=0.8,\n",
        "                       random_state=123)                           \n",
        "\n",
        "model3v.fit(train_X, train_y3, verbose=100)\n",
        "oof_pred3 = model3v.predict(val_X)\n",
        "\n",
        "oof_pred3 = np.clip(oof_pred3, 20.0, y3.max())\n",
        "# oof_pred3 = np.clip(oof_pred3, y3.min(), y3.max())\n",
        "\n",
        "print(mean_absolute_error(val_y3, oof_pred3))\n"
      ],
      "execution_count": null,
      "outputs": [
        {
          "output_type": "stream",
          "text": [
            "[21:03:00] WARNING: /workspace/src/objective/regression_obj.cu:152: reg:linear is now deprecated in favor of reg:squarederror.\n",
            "30.0980453375354\n"
          ],
          "name": "stdout"
        }
      ]
    },
    {
      "cell_type": "code",
      "metadata": {
        "colab": {
          "base_uri": "https://localhost:8080/"
        },
        "id": "QuwYdEdQ4Pra",
        "outputId": "e90b57e0-421b-4839-c804-359b35d3ce86"
      },
      "source": [
        "model3v.feature_importances_"
      ],
      "execution_count": null,
      "outputs": [
        {
          "output_type": "execute_result",
          "data": {
            "text/plain": [
              "array([0.11007867, 0.01944414, 0.00962702, 0.02448037, 0.06818754,\n",
              "       0.13019094, 0.5236489 , 0.0322852 , 0.08205726], dtype=float32)"
            ]
          },
          "metadata": {
            "tags": []
          },
          "execution_count": 24
        }
      ]
    },
    {
      "cell_type": "code",
      "metadata": {
        "colab": {
          "base_uri": "https://localhost:8080/",
          "height": 369
        },
        "id": "czTYDcky4R56",
        "outputId": "31a0ff38-0fc7-4573-ebeb-df4c09da59f0"
      },
      "source": [
        "axis_x  = X.columns.values\n",
        "axis_y1 = model1v.feature_importances_\n",
        "axis_y2 = model2v.feature_importances_\n",
        "axis_y3 = model3v.feature_importances_\n",
        "\n",
        "plt.style.use('seaborn-whitegrid') \n",
        "plt.figure(figsize=(16, 6), facecolor='lightgray')\n",
        "\n",
        "plt.scatter(axis_x, axis_y1, s=120, label='target_carbon_monoxide') \n",
        "plt.scatter(axis_x, axis_y2, s=120, label='target_benzene')\n",
        "plt.scatter(axis_x, axis_y3, s=120, label='target_nitrogen_oxides')\n",
        "plt.legend(fontsize=12, loc=2)\n",
        "plt.show() "
      ],
      "execution_count": null,
      "outputs": [
        {
          "output_type": "display_data",
          "data": {
            "image/png": "[encoded data removed]",
            "text/plain": [
              "<Figure size 1152x432 with 1 Axes>"
            ]
          },
          "metadata": {
            "tags": []
          }
        }
      ]
    },
    {
      "cell_type": "code",
      "metadata": {
        "colab": {
          "base_uri": "https://localhost:8080/",
          "height": 82
        },
        "id": "ELoOsd_L4XfM",
        "outputId": "78b21fc7-816d-4cb9-a78d-759f075a5d51"
      },
      "source": [
        "model1 = XGBRegressor(max_depth=6,\n",
        "                      n_estimators=250,\n",
        "                      learning_rate=0.08,\n",
        "                      subsample=0.7,\n",
        "                      alpha=0.5,\n",
        "                      random_state=314)                         \n",
        "\n",
        "model1.fit(X, y1)\n",
        "pred1 = model1.predict(XX)\n",
        "pred1 = np.clip(pred1, 0.30, y1.max())\n",
        "display(pred1, pred1.shape) "
      ],
      "execution_count": null,
      "outputs": [
        {
          "output_type": "stream",
          "text": [
            "[21:04:10] WARNING: /workspace/src/objective/regression_obj.cu:152: reg:linear is now deprecated in favor of reg:squarederror.\n"
          ],
          "name": "stdout"
        },
        {
          "output_type": "display_data",
          "data": {
            "text/plain": [
              "array([1.5508418, 2.0893478, 1.825534 , ..., 2.908093 , 2.8717349,\n",
              "       2.8008597], dtype=float32)"
            ]
          },
          "metadata": {
            "tags": []
          }
        },
        {
          "output_type": "display_data",
          "data": {
            "text/plain": [
              "(2247,)"
            ]
          },
          "metadata": {
            "tags": []
          }
        }
      ]
    },
    {
      "cell_type": "code",
      "metadata": {
        "colab": {
          "base_uri": "https://localhost:8080/",
          "height": 82
        },
        "id": "dcFcjqt34dXY",
        "outputId": "02de99fa-c9b0-4bc9-b915-dee60a1eccf3"
      },
      "source": [
        "model2 = XGBRegressor(max_depth=6,                     \n",
        "                      n_estimators=400,\n",
        "                      learning_rate=0.07,\n",
        "                      subsample=0.7,\n",
        "                      alpha=0.7,\n",
        "                      random_state=314)        \n",
        "\n",
        "model2.fit(X, y2)\n",
        "pred2 = model2.predict(XX)\n",
        "pred2 = np.clip(pred2, 0.10, y2.max())\n",
        "display(pred2, pred2.shape) "
      ],
      "execution_count": null,
      "outputs": [
        {
          "output_type": "stream",
          "text": [
            "[21:04:25] WARNING: /workspace/src/objective/regression_obj.cu:152: reg:linear is now deprecated in favor of reg:squarederror.\n"
          ],
          "name": "stdout"
        },
        {
          "output_type": "display_data",
          "data": {
            "text/plain": [
              "array([ 4.494129 ,  7.183673 ,  6.8831277, ..., 13.503233 , 11.191027 ,\n",
              "       12.211569 ], dtype=float32)"
            ]
          },
          "metadata": {
            "tags": []
          }
        },
        {
          "output_type": "display_data",
          "data": {
            "text/plain": [
              "(2247,)"
            ]
          },
          "metadata": {
            "tags": []
          }
        }
      ]
    },
    {
      "cell_type": "code",
      "metadata": {
        "colab": {
          "base_uri": "https://localhost:8080/",
          "height": 82
        },
        "id": "N9U68YPf4kW-",
        "outputId": "cc5ba1ef-2d25-40ff-ffa1-8c1c60add8cb"
      },
      "source": [
        "model3 = XGBRegressor(max_depth=8,\n",
        "                      n_estimators=500,\n",
        "                      learning_rate=0.03,\n",
        "                      subsample=0.7,\n",
        "                      alpha=0.8,\n",
        "                      random_state=314)                           \n",
        "\n",
        "model3.fit(X, y3)\n",
        "pred3 = model3.predict(XX)\n",
        "pred3 = np.clip(pred3, 20.0, y3.max())\n",
        "display(pred3, pred3.shape) "
      ],
      "execution_count": null,
      "outputs": [
        {
          "output_type": "stream",
          "text": [
            "[21:04:34] WARNING: /workspace/src/objective/regression_obj.cu:152: reg:linear is now deprecated in favor of reg:squarederror.\n"
          ],
          "name": "stdout"
        },
        {
          "output_type": "display_data",
          "data": {
            "text/plain": [
              "array([199.67216, 295.51352, 279.70615, ..., 397.35828, 314.437  ,\n",
              "       346.29074], dtype=float32)"
            ]
          },
          "metadata": {
            "tags": []
          }
        },
        {
          "output_type": "display_data",
          "data": {
            "text/plain": [
              "(2247,)"
            ]
          },
          "metadata": {
            "tags": []
          }
        }
      ]
    },
    {
      "cell_type": "code",
      "metadata": {
        "id": "Fr5AhrLO4mu0"
      },
      "source": [
        "sample = pd.read_csv('sample_submission.csv')"
      ],
      "execution_count": null,
      "outputs": []
    },
    {
      "cell_type": "code",
      "metadata": {
        "colab": {
          "base_uri": "https://localhost:8080/",
          "height": 411
        },
        "id": "2O23Qd2w41RT",
        "outputId": "8ad332b3-f08a-46be-e152-8320dcff35a4"
      },
      "source": [
        "sub_xgb = sample.copy()\n",
        "\n",
        "sub_xgb['target_carbon_monoxide'] = pred1\n",
        "sub_xgb['target_benzene'] = pred2\n",
        "sub_xgb['target_nitrogen_oxides'] = pred3\n",
        "display(sub_xgb)"
      ],
      "execution_count": null,
      "outputs": [
        {
          "output_type": "display_data",
          "data": {
            "text/html": [
              "<div>\n",
              "<style scoped>\n",
              "    .dataframe tbody tr th:only-of-type {\n",
              "        vertical-align: middle;\n",
              "    }\n",
              "\n",
              "    .dataframe tbody tr th {\n",
              "        vertical-align: top;\n",
              "    }\n",
              "\n",
              "    .dataframe thead th {\n",
              "        text-align: right;\n",
              "    }\n",
              "</style>\n",
              "<table border=\"1\" class=\"dataframe\">\n",
              "  <thead>\n",
              "    <tr style=\"text-align: right;\">\n",
              "      <th></th>\n",
              "      <th>date_time</th>\n",
              "      <th>target_carbon_monoxide</th>\n",
              "      <th>target_benzene</th>\n",
              "      <th>target_nitrogen_oxides</th>\n",
              "    </tr>\n",
              "  </thead>\n",
              "  <tbody>\n",
              "    <tr>\n",
              "      <th>0</th>\n",
              "      <td>2011-01-01 00:00:00</td>\n",
              "      <td>1.550842</td>\n",
              "      <td>4.494129</td>\n",
              "      <td>199.672165</td>\n",
              "    </tr>\n",
              "    <tr>\n",
              "      <th>1</th>\n",
              "      <td>2011-01-01 01:00:00</td>\n",
              "      <td>2.089348</td>\n",
              "      <td>7.183673</td>\n",
              "      <td>295.513519</td>\n",
              "    </tr>\n",
              "    <tr>\n",
              "      <th>2</th>\n",
              "      <td>2011-01-01 02:00:00</td>\n",
              "      <td>1.825534</td>\n",
              "      <td>6.883128</td>\n",
              "      <td>279.706146</td>\n",
              "    </tr>\n",
              "    <tr>\n",
              "      <th>3</th>\n",
              "      <td>2011-01-01 03:00:00</td>\n",
              "      <td>1.942484</td>\n",
              "      <td>7.454803</td>\n",
              "      <td>308.440552</td>\n",
              "    </tr>\n",
              "    <tr>\n",
              "      <th>4</th>\n",
              "      <td>2011-01-01 04:00:00</td>\n",
              "      <td>1.290977</td>\n",
              "      <td>5.958952</td>\n",
              "      <td>226.199524</td>\n",
              "    </tr>\n",
              "    <tr>\n",
              "      <th>...</th>\n",
              "      <td>...</td>\n",
              "      <td>...</td>\n",
              "      <td>...</td>\n",
              "      <td>...</td>\n",
              "    </tr>\n",
              "    <tr>\n",
              "      <th>2242</th>\n",
              "      <td>2011-04-04 10:00:00</td>\n",
              "      <td>2.930804</td>\n",
              "      <td>13.457216</td>\n",
              "      <td>461.013245</td>\n",
              "    </tr>\n",
              "    <tr>\n",
              "      <th>2243</th>\n",
              "      <td>2011-04-04 11:00:00</td>\n",
              "      <td>2.381647</td>\n",
              "      <td>11.676653</td>\n",
              "      <td>344.353119</td>\n",
              "    </tr>\n",
              "    <tr>\n",
              "      <th>2244</th>\n",
              "      <td>2011-04-04 12:00:00</td>\n",
              "      <td>2.908093</td>\n",
              "      <td>13.503233</td>\n",
              "      <td>397.358276</td>\n",
              "    </tr>\n",
              "    <tr>\n",
              "      <th>2245</th>\n",
              "      <td>2011-04-04 13:00:00</td>\n",
              "      <td>2.871735</td>\n",
              "      <td>11.191027</td>\n",
              "      <td>314.437012</td>\n",
              "    </tr>\n",
              "    <tr>\n",
              "      <th>2246</th>\n",
              "      <td>2011-04-04 14:00:00</td>\n",
              "      <td>2.800860</td>\n",
              "      <td>12.211569</td>\n",
              "      <td>346.290741</td>\n",
              "    </tr>\n",
              "  </tbody>\n",
              "</table>\n",
              "<p>2247 rows × 4 columns</p>\n",
              "</div>"
            ],
            "text/plain": [
              "                date_time  ...  target_nitrogen_oxides\n",
              "0     2011-01-01 00:00:00  ...              199.672165\n",
              "1     2011-01-01 01:00:00  ...              295.513519\n",
              "2     2011-01-01 02:00:00  ...              279.706146\n",
              "3     2011-01-01 03:00:00  ...              308.440552\n",
              "4     2011-01-01 04:00:00  ...              226.199524\n",
              "...                   ...  ...                     ...\n",
              "2242  2011-04-04 10:00:00  ...              461.013245\n",
              "2243  2011-04-04 11:00:00  ...              344.353119\n",
              "2244  2011-04-04 12:00:00  ...              397.358276\n",
              "2245  2011-04-04 13:00:00  ...              314.437012\n",
              "2246  2011-04-04 14:00:00  ...              346.290741\n",
              "\n",
              "[2247 rows x 4 columns]"
            ]
          },
          "metadata": {
            "tags": []
          }
        }
      ]
    },
    {
      "cell_type": "code",
      "metadata": {
        "id": "I4zEn5tk46BI"
      },
      "source": [
        "sub = sub_xgb\n",
        "sub.to_csv(\"submission_xgb.csv\",index=False)"
      ],
      "execution_count": null,
      "outputs": []
    },
    {
      "cell_type": "code",
      "metadata": {
        "id": "yrJKpHWI5djY"
      },
      "source": [
        ""
      ],
      "execution_count": null,
      "outputs": []
    },
    {
      "cell_type": "markdown",
      "metadata": {
        "id": "C7IryV6GFepM"
      },
      "source": [
        "LeaveONEOUT"
      ]
    },
    {
      "cell_type": "code",
      "metadata": {
        "id": "I5nU3qX25dWU"
      },
      "source": [
        "months1 = []\n",
        "for i in range(len(data1)):  \n",
        "    \n",
        "    row  = data1.iloc[i,0]    \n",
        "    mon  = int(row[5:7])\n",
        "    #day = int(row[8:10])\n",
        "    #hou = int(row[11:13])    \n",
        "    if (mon == 1): mon=12  \n",
        "    months1.append(mon)   \n",
        "    \n",
        "data1['months'] = months1\n",
        "display(data1)    "
      ],
      "execution_count": null,
      "outputs": []
    },
    {
      "cell_type": "code",
      "metadata": {
        "colab": {
          "base_uri": "https://localhost:8080/",
          "height": 411
        },
        "id": "bQ-rZlrD5dIH",
        "outputId": "50ce66bc-b127-459d-8d77-434ce78ef33c"
      },
      "source": [
        "months2 = []\n",
        "for i in range(len(data2)):  \n",
        "    \n",
        "    row  = data2.iloc[i,0]    \n",
        "    mon  = int(row[5:7])\n",
        "    #day = int(row[8:10])\n",
        "    #hou = int(row[11:13])  \n",
        "    months2.append(mon)   \n",
        "    \n",
        "data2['months'] = months2\n",
        "display(data2)   "
      ],
      "execution_count": null,
      "outputs": [
        {
          "output_type": "display_data",
          "data": {
            "text/html": [
              "<div>\n",
              "<style scoped>\n",
              "    .dataframe tbody tr th:only-of-type {\n",
              "        vertical-align: middle;\n",
              "    }\n",
              "\n",
              "    .dataframe tbody tr th {\n",
              "        vertical-align: top;\n",
              "    }\n",
              "\n",
              "    .dataframe thead th {\n",
              "        text-align: right;\n",
              "    }\n",
              "</style>\n",
              "<table border=\"1\" class=\"dataframe\">\n",
              "  <thead>\n",
              "    <tr style=\"text-align: right;\">\n",
              "      <th></th>\n",
              "      <th>date_time</th>\n",
              "      <th>deg_C</th>\n",
              "      <th>relative_humidity</th>\n",
              "      <th>absolute_humidity</th>\n",
              "      <th>sensor_1</th>\n",
              "      <th>sensor_2</th>\n",
              "      <th>sensor_3</th>\n",
              "      <th>sensor_4</th>\n",
              "      <th>sensor_5</th>\n",
              "      <th>months</th>\n",
              "    </tr>\n",
              "  </thead>\n",
              "  <tbody>\n",
              "    <tr>\n",
              "      <th>0</th>\n",
              "      <td>2011-01-01 00:00:00</td>\n",
              "      <td>8.0</td>\n",
              "      <td>41.3</td>\n",
              "      <td>0.4375</td>\n",
              "      <td>1108.8</td>\n",
              "      <td>745.7</td>\n",
              "      <td>797.1</td>\n",
              "      <td>880.0</td>\n",
              "      <td>1273.1</td>\n",
              "      <td>1</td>\n",
              "    </tr>\n",
              "    <tr>\n",
              "      <th>1</th>\n",
              "      <td>2011-01-01 01:00:00</td>\n",
              "      <td>5.1</td>\n",
              "      <td>51.7</td>\n",
              "      <td>0.4564</td>\n",
              "      <td>1249.5</td>\n",
              "      <td>864.9</td>\n",
              "      <td>687.9</td>\n",
              "      <td>972.8</td>\n",
              "      <td>1714.0</td>\n",
              "      <td>1</td>\n",
              "    </tr>\n",
              "    <tr>\n",
              "      <th>2</th>\n",
              "      <td>2011-01-01 02:00:00</td>\n",
              "      <td>5.8</td>\n",
              "      <td>51.5</td>\n",
              "      <td>0.4689</td>\n",
              "      <td>1102.6</td>\n",
              "      <td>878.0</td>\n",
              "      <td>693.7</td>\n",
              "      <td>941.9</td>\n",
              "      <td>1300.8</td>\n",
              "      <td>1</td>\n",
              "    </tr>\n",
              "    <tr>\n",
              "      <th>3</th>\n",
              "      <td>2011-01-01 03:00:00</td>\n",
              "      <td>5.0</td>\n",
              "      <td>52.3</td>\n",
              "      <td>0.4693</td>\n",
              "      <td>1139.7</td>\n",
              "      <td>916.2</td>\n",
              "      <td>725.6</td>\n",
              "      <td>1011.0</td>\n",
              "      <td>1283.0</td>\n",
              "      <td>1</td>\n",
              "    </tr>\n",
              "    <tr>\n",
              "      <th>4</th>\n",
              "      <td>2011-01-01 04:00:00</td>\n",
              "      <td>4.5</td>\n",
              "      <td>57.5</td>\n",
              "      <td>0.4650</td>\n",
              "      <td>1022.4</td>\n",
              "      <td>838.5</td>\n",
              "      <td>871.5</td>\n",
              "      <td>967.0</td>\n",
              "      <td>1142.3</td>\n",
              "      <td>1</td>\n",
              "    </tr>\n",
              "    <tr>\n",
              "      <th>...</th>\n",
              "      <td>...</td>\n",
              "      <td>...</td>\n",
              "      <td>...</td>\n",
              "      <td>...</td>\n",
              "      <td>...</td>\n",
              "      <td>...</td>\n",
              "      <td>...</td>\n",
              "      <td>...</td>\n",
              "      <td>...</td>\n",
              "      <td>...</td>\n",
              "    </tr>\n",
              "    <tr>\n",
              "      <th>2242</th>\n",
              "      <td>2011-04-04 10:00:00</td>\n",
              "      <td>23.2</td>\n",
              "      <td>28.7</td>\n",
              "      <td>0.7568</td>\n",
              "      <td>1340.3</td>\n",
              "      <td>1023.9</td>\n",
              "      <td>522.8</td>\n",
              "      <td>1374.0</td>\n",
              "      <td>1659.8</td>\n",
              "      <td>4</td>\n",
              "    </tr>\n",
              "    <tr>\n",
              "      <th>2243</th>\n",
              "      <td>2011-04-04 11:00:00</td>\n",
              "      <td>24.5</td>\n",
              "      <td>22.5</td>\n",
              "      <td>0.7119</td>\n",
              "      <td>1232.8</td>\n",
              "      <td>955.1</td>\n",
              "      <td>616.1</td>\n",
              "      <td>1226.1</td>\n",
              "      <td>1269.0</td>\n",
              "      <td>4</td>\n",
              "    </tr>\n",
              "    <tr>\n",
              "      <th>2244</th>\n",
              "      <td>2011-04-04 12:00:00</td>\n",
              "      <td>26.6</td>\n",
              "      <td>19.0</td>\n",
              "      <td>0.6406</td>\n",
              "      <td>1187.7</td>\n",
              "      <td>1052.4</td>\n",
              "      <td>572.8</td>\n",
              "      <td>1253.4</td>\n",
              "      <td>1081.1</td>\n",
              "      <td>4</td>\n",
              "    </tr>\n",
              "    <tr>\n",
              "      <th>2245</th>\n",
              "      <td>2011-04-04 13:00:00</td>\n",
              "      <td>29.1</td>\n",
              "      <td>12.7</td>\n",
              "      <td>0.5139</td>\n",
              "      <td>1053.2</td>\n",
              "      <td>1009.0</td>\n",
              "      <td>702.0</td>\n",
              "      <td>1009.8</td>\n",
              "      <td>808.5</td>\n",
              "      <td>4</td>\n",
              "    </tr>\n",
              "    <tr>\n",
              "      <th>2246</th>\n",
              "      <td>2011-04-04 14:00:00</td>\n",
              "      <td>27.9</td>\n",
              "      <td>13.5</td>\n",
              "      <td>0.5028</td>\n",
              "      <td>1124.6</td>\n",
              "      <td>1078.4</td>\n",
              "      <td>608.2</td>\n",
              "      <td>1061.3</td>\n",
              "      <td>816.0</td>\n",
              "      <td>4</td>\n",
              "    </tr>\n",
              "  </tbody>\n",
              "</table>\n",
              "<p>2247 rows × 10 columns</p>\n",
              "</div>"
            ],
            "text/plain": [
              "                date_time  deg_C  relative_humidity  ...  sensor_4  sensor_5  months\n",
              "0     2011-01-01 00:00:00    8.0               41.3  ...     880.0    1273.1       1\n",
              "1     2011-01-01 01:00:00    5.1               51.7  ...     972.8    1714.0       1\n",
              "2     2011-01-01 02:00:00    5.8               51.5  ...     941.9    1300.8       1\n",
              "3     2011-01-01 03:00:00    5.0               52.3  ...    1011.0    1283.0       1\n",
              "4     2011-01-01 04:00:00    4.5               57.5  ...     967.0    1142.3       1\n",
              "...                   ...    ...                ...  ...       ...       ...     ...\n",
              "2242  2011-04-04 10:00:00   23.2               28.7  ...    1374.0    1659.8       4\n",
              "2243  2011-04-04 11:00:00   24.5               22.5  ...    1226.1    1269.0       4\n",
              "2244  2011-04-04 12:00:00   26.6               19.0  ...    1253.4    1081.1       4\n",
              "2245  2011-04-04 13:00:00   29.1               12.7  ...    1009.8     808.5       4\n",
              "2246  2011-04-04 14:00:00   27.9               13.5  ...    1061.3     816.0       4\n",
              "\n",
              "[2247 rows x 10 columns]"
            ]
          },
          "metadata": {
            "tags": []
          }
        }
      ]
    },
    {
      "cell_type": "code",
      "metadata": {
        "colab": {
          "base_uri": "https://localhost:8080/",
          "height": 214
        },
        "id": "xalYzfPy6dt2",
        "outputId": "ad3a43a9-6452-478d-fb31-e727781f4e12"
      },
      "source": [
        "groups = data1['months']\n",
        "display(groups)"
      ],
      "execution_count": null,
      "outputs": [
        {
          "output_type": "display_data",
          "data": {
            "text/plain": [
              "0        3\n",
              "1        3\n",
              "2        3\n",
              "3        3\n",
              "4        3\n",
              "        ..\n",
              "7106    12\n",
              "7107    12\n",
              "7108    12\n",
              "7109    12\n",
              "7110    12\n",
              "Name: months, Length: 7111, dtype: int64"
            ]
          },
          "metadata": {
            "tags": []
          }
        }
      ]
    },
    {
      "cell_type": "code",
      "metadata": {
        "colab": {
          "base_uri": "https://localhost:8080/"
        },
        "id": "Drlox7V36d10",
        "outputId": "a38222f3-ee91-48a4-9085-420c2731bc15"
      },
      "source": [
        "logo = LeaveOneGroupOut()\n",
        "\n",
        "print(logo.get_n_splits(X, y1, groups))\n",
        "print(logo.get_n_splits(X, y2, groups))\n",
        "print(logo.get_n_splits(X, y3, groups))"
      ],
      "execution_count": null,
      "outputs": [
        {
          "output_type": "stream",
          "text": [
            "10\n",
            "10\n",
            "10\n"
          ],
          "name": "stdout"
        }
      ]
    },
    {
      "cell_type": "code",
      "metadata": {
        "id": "cYEGyQcf6d5p"
      },
      "source": [
        "pred1_leave = np.zeros(len(XX))\n",
        "for train_index, test_index in logo.split(X, y1, groups):\n",
        "\n",
        "    X_train, X_test = X.iloc[train_index], X.iloc[test_index]   \n",
        "    y_train, y_test = y1.iloc[train_index], y1.iloc[test_index]\n",
        "    \n",
        "    model1.fit(X_train, y_train.ravel())  \n",
        "    pred1_leave += (model1.predict(XX)) / 10\n",
        "\n",
        "display(pred1_leave, pred1_leave.shape) "
      ],
      "execution_count": null,
      "outputs": []
    },
    {
      "cell_type": "code",
      "metadata": {
        "id": "yrMRB_G36d_i"
      },
      "source": [
        "pred2_leave = np.zeros(len(XX))\n",
        "for train_index, test_index in logo.split(X, y2, groups):\n",
        "\n",
        "    X_train, X_test = X.iloc[train_index], X.iloc[test_index]   \n",
        "    y_train, y_test = y2.iloc[train_index], y2.iloc[test_index]\n",
        "    \n",
        "    model2.fit(X_train, y_train.ravel())  \n",
        "    pred2_leave += (model2.predict(XX)) / 10\n",
        "\n",
        "display(pred2_leave, pred2_leave.shape) "
      ],
      "execution_count": null,
      "outputs": []
    },
    {
      "cell_type": "code",
      "metadata": {
        "colab": {
          "base_uri": "https://localhost:8080/",
          "height": 230
        },
        "id": "6N6aYOrL6eI6",
        "outputId": "7996de09-3345-4854-c015-8265b27e3371"
      },
      "source": [
        "pred3_leave = np.zeros(len(XX))\n",
        "for train_index, test_index in logo.split(X, y3, groups):\n",
        "\n",
        "    X_train, X_test = X.iloc[train_index], X.iloc[test_index]   \n",
        "    y_train, y_test = y3.iloc[train_index], y3.iloc[test_index]\n",
        "    \n",
        "    model3.fit(X_train, y_train.ravel())  \n",
        "    pred3_leave += (model3.predict(XX)) / 10\n",
        "\n",
        "display(pred3_leave, pred3_leave.shape) "
      ],
      "execution_count": null,
      "outputs": [
        {
          "output_type": "stream",
          "text": [
            "[21:14:29] WARNING: /workspace/src/objective/regression_obj.cu:152: reg:linear is now deprecated in favor of reg:squarederror.\n",
            "[21:14:36] WARNING: /workspace/src/objective/regression_obj.cu:152: reg:linear is now deprecated in favor of reg:squarederror.\n",
            "[21:14:42] WARNING: /workspace/src/objective/regression_obj.cu:152: reg:linear is now deprecated in favor of reg:squarederror.\n",
            "[21:14:49] WARNING: /workspace/src/objective/regression_obj.cu:152: reg:linear is now deprecated in favor of reg:squarederror.\n",
            "[21:14:56] WARNING: /workspace/src/objective/regression_obj.cu:152: reg:linear is now deprecated in favor of reg:squarederror.\n",
            "[21:15:02] WARNING: /workspace/src/objective/regression_obj.cu:152: reg:linear is now deprecated in favor of reg:squarederror.\n",
            "[21:15:09] WARNING: /workspace/src/objective/regression_obj.cu:152: reg:linear is now deprecated in favor of reg:squarederror.\n",
            "[21:15:16] WARNING: /workspace/src/objective/regression_obj.cu:152: reg:linear is now deprecated in favor of reg:squarederror.\n",
            "[21:15:23] WARNING: /workspace/src/objective/regression_obj.cu:152: reg:linear is now deprecated in favor of reg:squarederror.\n",
            "[21:15:29] WARNING: /workspace/src/objective/regression_obj.cu:152: reg:linear is now deprecated in favor of reg:squarederror.\n"
          ],
          "name": "stdout"
        },
        {
          "output_type": "display_data",
          "data": {
            "text/plain": [
              "array([203.00387001, 297.23854065, 285.87425995, ..., 383.58073425,\n",
              "       326.06926155, 338.91341972])"
            ]
          },
          "metadata": {
            "tags": []
          }
        },
        {
          "output_type": "display_data",
          "data": {
            "text/plain": [
              "(2247,)"
            ]
          },
          "metadata": {
            "tags": []
          }
        }
      ]
    },
    {
      "cell_type": "code",
      "metadata": {
        "id": "LPfaLaUf6ePS"
      },
      "source": [
        "sub_leave = sample.copy()\n",
        "\n",
        "sub_leave['target_carbon_monoxide'] = pred1_leave\n",
        "sub_leave['target_benzene'] = pred2_leave\n",
        "sub_leave['target_nitrogen_oxides'] = pred3_leave\n",
        "display(sub_leave)"
      ],
      "execution_count": null,
      "outputs": []
    },
    {
      "cell_type": "code",
      "metadata": {
        "id": "fbfIj_rI6eS9"
      },
      "source": [
        "sub = sub_leave\n",
        "sub.to_csv(\"submission_leave.csv\",index=False)"
      ],
      "execution_count": null,
      "outputs": []
    },
    {
      "cell_type": "code",
      "metadata": {
        "id": "uHsSpsy96e-Q"
      },
      "source": [
        ""
      ],
      "execution_count": null,
      "outputs": []
    },
    {
      "cell_type": "code",
      "metadata": {
        "id": "O1_z5EAM6fLp"
      },
      "source": [
        ""
      ],
      "execution_count": null,
      "outputs": []
    },
    {
      "cell_type": "markdown",
      "metadata": {
        "id": "nPSQHfp4FLBx"
      },
      "source": [
        "TIME SERIES CV\n"
      ]
    },
    {
      "cell_type": "code",
      "metadata": {
        "id": "cF5fIFPb6fPM"
      },
      "source": [
        "from sklearn.model_selection import TimeSeriesSplit as tss"
      ],
      "execution_count": 55,
      "outputs": []
    },
    {
      "cell_type": "code",
      "metadata": {
        "id": "tJfiu2u36fww"
      },
      "source": [
        "tscv = tss()"
      ],
      "execution_count": 56,
      "outputs": []
    },
    {
      "cell_type": "code",
      "metadata": {
        "id": "3un2C7746f4v",
        "colab": {
          "base_uri": "https://localhost:8080/"
        },
        "outputId": "9016c5c2-2954-407a-88a7-9f51a1837478"
      },
      "source": [
        "tscv"
      ],
      "execution_count": 57,
      "outputs": [
        {
          "output_type": "execute_result",
          "data": {
            "text/plain": [
              "TimeSeriesSplit(max_train_size=None, n_splits=5)"
            ]
          },
          "metadata": {
            "tags": []
          },
          "execution_count": 57
        }
      ]
    },
    {
      "cell_type": "code",
      "metadata": {
        "id": "kHBGE4nz7TCi",
        "colab": {
          "base_uri": "https://localhost:8080/"
        },
        "outputId": "850a29c7-1f4e-46c8-9a7f-1ddf3c1300d9"
      },
      "source": [
        "tscv.split(X, y1, groups)\n",
        "tscv.split([X, y2, groups])\n",
        "tscv.split([X, y3, groups])\n"
      ],
      "execution_count": 68,
      "outputs": [
        {
          "output_type": "execute_result",
          "data": {
            "text/plain": [
              "<generator object TimeSeriesSplit.split at 0x7fce10741d50>"
            ]
          },
          "metadata": {
            "tags": []
          },
          "execution_count": 68
        }
      ]
    },
    {
      "cell_type": "code",
      "metadata": {
        "colab": {
          "base_uri": "https://localhost:8080/",
          "height": 148
        },
        "id": "jUcnj8QmJ8Ww",
        "outputId": "019444c9-aed3-48ec-e72c-72b1b09847b7"
      },
      "source": [
        "pred1_tscv = np.zeros(len(XX))\n",
        "for train_index, test_index in tscv.split(X, y1, groups):\n",
        "\n",
        "    X_train, X_test = X.iloc[train_index], X.iloc[test_index]   \n",
        "    y_train, y_test = y1.iloc[train_index], y1.iloc[test_index]\n",
        "    \n",
        "    model1.fit(X_train, y_train.ravel())  \n",
        "    pred1_tscv += (model1.predict(XX)) / 10\n",
        "\n",
        "display(pred1_tscv, pred1_tscv.shape) "
      ],
      "execution_count": 70,
      "outputs": [
        {
          "output_type": "stream",
          "text": [
            "[23:04:38] WARNING: /workspace/src/objective/regression_obj.cu:152: reg:linear is now deprecated in favor of reg:squarederror.\n",
            "[23:04:38] WARNING: /workspace/src/objective/regression_obj.cu:152: reg:linear is now deprecated in favor of reg:squarederror.\n",
            "[23:04:39] WARNING: /workspace/src/objective/regression_obj.cu:152: reg:linear is now deprecated in favor of reg:squarederror.\n",
            "[23:04:40] WARNING: /workspace/src/objective/regression_obj.cu:152: reg:linear is now deprecated in favor of reg:squarederror.\n",
            "[23:04:42] WARNING: /workspace/src/objective/regression_obj.cu:152: reg:linear is now deprecated in favor of reg:squarederror.\n"
          ],
          "name": "stdout"
        },
        {
          "output_type": "display_data",
          "data": {
            "text/plain": [
              "array([0.75028746, 0.98386928, 0.89108203, ..., 1.37230536, 1.06167485,\n",
              "       1.12134278])"
            ]
          },
          "metadata": {
            "tags": []
          }
        },
        {
          "output_type": "display_data",
          "data": {
            "text/plain": [
              "(2247,)"
            ]
          },
          "metadata": {
            "tags": []
          }
        }
      ]
    },
    {
      "cell_type": "code",
      "metadata": {
        "colab": {
          "base_uri": "https://localhost:8080/",
          "height": 230
        },
        "id": "uD430dohT63-",
        "outputId": "1e836d64-1fa8-4b53-e71e-db146b3eddb0"
      },
      "source": [
        "pred2_tscv = np.zeros(len(XX))\n",
        "for train_index, test_index in logo.split(X, y2, groups):\n",
        "\n",
        "    X_train, X_test = X.iloc[train_index], X.iloc[test_index]   \n",
        "    y_train, y_test = y2.iloc[train_index], y2.iloc[test_index]\n",
        "    \n",
        "    model2.fit(X_train, y_train.ravel())  \n",
        "    pred2_tscv  += (model2.predict(XX)) / 10\n",
        "\n",
        "display(pred2_tscv , pred2_tscv .shape) "
      ],
      "execution_count": 71,
      "outputs": [
        {
          "output_type": "stream",
          "text": [
            "[23:05:15] WARNING: /workspace/src/objective/regression_obj.cu:152: reg:linear is now deprecated in favor of reg:squarederror.\n",
            "[23:05:19] WARNING: /workspace/src/objective/regression_obj.cu:152: reg:linear is now deprecated in favor of reg:squarederror.\n",
            "[23:05:23] WARNING: /workspace/src/objective/regression_obj.cu:152: reg:linear is now deprecated in favor of reg:squarederror.\n",
            "[23:05:27] WARNING: /workspace/src/objective/regression_obj.cu:152: reg:linear is now deprecated in favor of reg:squarederror.\n",
            "[23:05:31] WARNING: /workspace/src/objective/regression_obj.cu:152: reg:linear is now deprecated in favor of reg:squarederror.\n",
            "[23:05:35] WARNING: /workspace/src/objective/regression_obj.cu:152: reg:linear is now deprecated in favor of reg:squarederror.\n",
            "[23:05:39] WARNING: /workspace/src/objective/regression_obj.cu:152: reg:linear is now deprecated in favor of reg:squarederror.\n",
            "[23:05:42] WARNING: /workspace/src/objective/regression_obj.cu:152: reg:linear is now deprecated in favor of reg:squarederror.\n",
            "[23:05:46] WARNING: /workspace/src/objective/regression_obj.cu:152: reg:linear is now deprecated in favor of reg:squarederror.\n",
            "[23:05:50] WARNING: /workspace/src/objective/regression_obj.cu:152: reg:linear is now deprecated in favor of reg:squarederror.\n"
          ],
          "name": "stdout"
        },
        {
          "output_type": "display_data",
          "data": {
            "text/plain": [
              "array([ 4.72791067,  7.18365133,  7.10326493, ..., 13.19602597,\n",
              "       10.8327142 , 12.0535723 ])"
            ]
          },
          "metadata": {
            "tags": []
          }
        },
        {
          "output_type": "display_data",
          "data": {
            "text/plain": [
              "(2247,)"
            ]
          },
          "metadata": {
            "tags": []
          }
        }
      ]
    },
    {
      "cell_type": "code",
      "metadata": {
        "colab": {
          "base_uri": "https://localhost:8080/",
          "height": 230
        },
        "id": "le2qcrYNUOkR",
        "outputId": "4878fd63-7655-41e3-c571-4c14380be20f"
      },
      "source": [
        "pred3_tscv = np.zeros(len(XX))\n",
        "for train_index, test_index in logo.split(X, y3, groups):\n",
        "\n",
        "    X_train, X_test = X.iloc[train_index], X.iloc[test_index]   \n",
        "    y_train, y_test = y3.iloc[train_index], y3.iloc[test_index]\n",
        "    \n",
        "    model3.fit(X_train, y_train.ravel())  \n",
        "    pred3_tscv += (model3.predict(XX)) / 10\n",
        "\n",
        "display(pred3_tscv, pred3_leave.shape) "
      ],
      "execution_count": 72,
      "outputs": [
        {
          "output_type": "stream",
          "text": [
            "[23:05:56] WARNING: /workspace/src/objective/regression_obj.cu:152: reg:linear is now deprecated in favor of reg:squarederror.\n",
            "[23:06:03] WARNING: /workspace/src/objective/regression_obj.cu:152: reg:linear is now deprecated in favor of reg:squarederror.\n",
            "[23:06:10] WARNING: /workspace/src/objective/regression_obj.cu:152: reg:linear is now deprecated in favor of reg:squarederror.\n",
            "[23:06:17] WARNING: /workspace/src/objective/regression_obj.cu:152: reg:linear is now deprecated in favor of reg:squarederror.\n",
            "[23:06:23] WARNING: /workspace/src/objective/regression_obj.cu:152: reg:linear is now deprecated in favor of reg:squarederror.\n",
            "[23:06:30] WARNING: /workspace/src/objective/regression_obj.cu:152: reg:linear is now deprecated in favor of reg:squarederror.\n",
            "[23:06:36] WARNING: /workspace/src/objective/regression_obj.cu:152: reg:linear is now deprecated in favor of reg:squarederror.\n",
            "[23:06:43] WARNING: /workspace/src/objective/regression_obj.cu:152: reg:linear is now deprecated in favor of reg:squarederror.\n",
            "[23:06:50] WARNING: /workspace/src/objective/regression_obj.cu:152: reg:linear is now deprecated in favor of reg:squarederror.\n",
            "[23:06:56] WARNING: /workspace/src/objective/regression_obj.cu:152: reg:linear is now deprecated in favor of reg:squarederror.\n"
          ],
          "name": "stdout"
        },
        {
          "output_type": "display_data",
          "data": {
            "text/plain": [
              "array([203.00387001, 297.23854065, 285.87425995, ..., 383.58073425,\n",
              "       326.06926155, 338.91341972])"
            ]
          },
          "metadata": {
            "tags": []
          }
        },
        {
          "output_type": "display_data",
          "data": {
            "text/plain": [
              "(2247,)"
            ]
          },
          "metadata": {
            "tags": []
          }
        }
      ]
    },
    {
      "cell_type": "code",
      "metadata": {
        "colab": {
          "base_uri": "https://localhost:8080/",
          "height": 411
        },
        "id": "BMxLqnbIUUr9",
        "outputId": "3388b2b4-29c6-4a12-b05b-c4e39d277776"
      },
      "source": [
        "sub_tscv = sample.copy()\n",
        "\n",
        "sub_tscv['target_carbon_monoxide'] = pred1_tscv\n",
        "sub_tscv['target_benzene'] = pred2_tscv\n",
        "sub_tscv['target_nitrogen_oxides'] = pred3_tscv\n",
        "display(sub_tscv)"
      ],
      "execution_count": 73,
      "outputs": [
        {
          "output_type": "display_data",
          "data": {
            "text/html": [
              "<div>\n",
              "<style scoped>\n",
              "    .dataframe tbody tr th:only-of-type {\n",
              "        vertical-align: middle;\n",
              "    }\n",
              "\n",
              "    .dataframe tbody tr th {\n",
              "        vertical-align: top;\n",
              "    }\n",
              "\n",
              "    .dataframe thead th {\n",
              "        text-align: right;\n",
              "    }\n",
              "</style>\n",
              "<table border=\"1\" class=\"dataframe\">\n",
              "  <thead>\n",
              "    <tr style=\"text-align: right;\">\n",
              "      <th></th>\n",
              "      <th>date_time</th>\n",
              "      <th>target_carbon_monoxide</th>\n",
              "      <th>target_benzene</th>\n",
              "      <th>target_nitrogen_oxides</th>\n",
              "    </tr>\n",
              "  </thead>\n",
              "  <tbody>\n",
              "    <tr>\n",
              "      <th>0</th>\n",
              "      <td>2011-01-01 00:00:00</td>\n",
              "      <td>0.750287</td>\n",
              "      <td>4.727911</td>\n",
              "      <td>203.003870</td>\n",
              "    </tr>\n",
              "    <tr>\n",
              "      <th>1</th>\n",
              "      <td>2011-01-01 01:00:00</td>\n",
              "      <td>0.983869</td>\n",
              "      <td>7.183651</td>\n",
              "      <td>297.238541</td>\n",
              "    </tr>\n",
              "    <tr>\n",
              "      <th>2</th>\n",
              "      <td>2011-01-01 02:00:00</td>\n",
              "      <td>0.891082</td>\n",
              "      <td>7.103265</td>\n",
              "      <td>285.874260</td>\n",
              "    </tr>\n",
              "    <tr>\n",
              "      <th>3</th>\n",
              "      <td>2011-01-01 03:00:00</td>\n",
              "      <td>0.980224</td>\n",
              "      <td>7.830874</td>\n",
              "      <td>303.759182</td>\n",
              "    </tr>\n",
              "    <tr>\n",
              "      <th>4</th>\n",
              "      <td>2011-01-01 04:00:00</td>\n",
              "      <td>0.649112</td>\n",
              "      <td>6.152841</td>\n",
              "      <td>227.904964</td>\n",
              "    </tr>\n",
              "    <tr>\n",
              "      <th>...</th>\n",
              "      <td>...</td>\n",
              "      <td>...</td>\n",
              "      <td>...</td>\n",
              "      <td>...</td>\n",
              "    </tr>\n",
              "    <tr>\n",
              "      <th>2242</th>\n",
              "      <td>2011-04-04 10:00:00</td>\n",
              "      <td>1.314575</td>\n",
              "      <td>13.103151</td>\n",
              "      <td>443.846031</td>\n",
              "    </tr>\n",
              "    <tr>\n",
              "      <th>2243</th>\n",
              "      <td>2011-04-04 11:00:00</td>\n",
              "      <td>1.268027</td>\n",
              "      <td>11.434096</td>\n",
              "      <td>351.244156</td>\n",
              "    </tr>\n",
              "    <tr>\n",
              "      <th>2244</th>\n",
              "      <td>2011-04-04 12:00:00</td>\n",
              "      <td>1.372305</td>\n",
              "      <td>13.196026</td>\n",
              "      <td>383.580734</td>\n",
              "    </tr>\n",
              "    <tr>\n",
              "      <th>2245</th>\n",
              "      <td>2011-04-04 13:00:00</td>\n",
              "      <td>1.061675</td>\n",
              "      <td>10.832714</td>\n",
              "      <td>326.069262</td>\n",
              "    </tr>\n",
              "    <tr>\n",
              "      <th>2246</th>\n",
              "      <td>2011-04-04 14:00:00</td>\n",
              "      <td>1.121343</td>\n",
              "      <td>12.053572</td>\n",
              "      <td>338.913420</td>\n",
              "    </tr>\n",
              "  </tbody>\n",
              "</table>\n",
              "<p>2247 rows × 4 columns</p>\n",
              "</div>"
            ],
            "text/plain": [
              "                date_time  ...  target_nitrogen_oxides\n",
              "0     2011-01-01 00:00:00  ...              203.003870\n",
              "1     2011-01-01 01:00:00  ...              297.238541\n",
              "2     2011-01-01 02:00:00  ...              285.874260\n",
              "3     2011-01-01 03:00:00  ...              303.759182\n",
              "4     2011-01-01 04:00:00  ...              227.904964\n",
              "...                   ...  ...                     ...\n",
              "2242  2011-04-04 10:00:00  ...              443.846031\n",
              "2243  2011-04-04 11:00:00  ...              351.244156\n",
              "2244  2011-04-04 12:00:00  ...              383.580734\n",
              "2245  2011-04-04 13:00:00  ...              326.069262\n",
              "2246  2011-04-04 14:00:00  ...              338.913420\n",
              "\n",
              "[2247 rows x 4 columns]"
            ]
          },
          "metadata": {
            "tags": []
          }
        }
      ]
    },
    {
      "cell_type": "code",
      "metadata": {
        "id": "wtZI-MhXUf7A"
      },
      "source": [
        "sub = sub_tscv\n",
        "sub.to_csv(\"submission_tscv.csv\",index=False)"
      ],
      "execution_count": 74,
      "outputs": []
    },
    {
      "cell_type": "code",
      "metadata": {
        "id": "J-kmsOZRUlK3"
      },
      "source": [
        ""
      ],
      "execution_count": null,
      "outputs": []
    }
  ]
}